{
 "cells": [
  {
   "cell_type": "markdown",
   "metadata": {},
   "source": [
    "# Heart Attack Risk Prediction"
   ]
  },
  {
   "cell_type": "markdown",
   "metadata": {},
   "source": [
    "The dataset includes a wide range of features related to heart health and lifestyles. It covers individual details like age, gender, blood pressures, and BMI and also covers lifestyles choices like smoking, alcohol consumption, and sleep hours per day. The ultimate goal of this dataset and our applications is to predict the heart attack risk of a person. The features included and their respective brief details are following:\n",
    "- Patient ID: Unique identifier for each patient\n",
    "- Age: Age of the patient\n",
    "- Sex: Gender of the patient (Male/Female)\n",
    "- Cholesterol: Cholesterol levels of the patient\n",
    "- Blood Pressure: Blood pressure of the patient (systolic/diastolic)\n",
    "- Heart Rate: Heart rate of the patient\n",
    "- Diabetes: Whether the patient has diabetes (Yes/No)\n",
    "- Family History: Family history of heart-related problems (1: Yes, 0: No)\n",
    "- Smoking: Smoking status of the patient (1: Smoker, 0: Non-smoker)\n",
    "- Obesity: Obesity status of the patient (1: Obese, 0: Not obese)\n",
    "- Alcohol Consumption: Level of alcohol consumption by the patient (None/Light/Moderate/Heavy)\n",
    "- Exercise Hours Per Week: Number of exercise hours per week\n",
    "- Diet: Dietary habits of the patient (Healthy/Average/Unhealthy)\n",
    "- Previous Heart Problems: Previous heart problems of the patient (1: Yes, 0: No)\n",
    "- Medication Use: Medication usage by the patient (1: Yes, 0: No)\n",
    "- Stress Level: Stress level reported by the patient (1-10)\n",
    "- Sedentary Hours Per Day: Hours of sedentary activity per day\n",
    "- Income: Income level of the patient\n",
    "- BMI: Body Mass Index (BMI) of the patient\n",
    "- Triglycerides: Triglyceride levels of the patient\n",
    "- Physical Activity Days Per Week: Days of physical activity per week\n",
    "- Sleep Hours Per Day: Hours of sleep per day\n",
    "- Country: Country of the patient\n",
    "- Continent: Continent where the patient resides\n",
    "- Hemisphere: Hemisphere where the patient resides\n",
    "- Heart Attack Risk: Presence of heart attack risk (1: Yes, 0: No)\n",
    "\n",
    "The dataset is retrieved from https://www.kaggle.com/competitions/heart-attack-risk-analysis"
   ]
  },
  {
   "cell_type": "markdown",
   "metadata": {},
   "source": [
    "# Import libraries"
   ]
  },
  {
   "cell_type": "code",
   "execution_count": 77,
   "metadata": {},
   "outputs": [],
   "source": [
    "import numpy as np\n",
    "import pandas as pd\n",
    "import matplotlib as mpl\n",
    "import matplotlib.pyplot as plt\n",
    "import seaborn as sns\n",
    "\n",
    "import warnings\n",
    "warnings.filterwarnings('ignore')"
   ]
  },
  {
   "cell_type": "code",
   "execution_count": 78,
   "metadata": {},
   "outputs": [
    {
     "name": "stdout",
     "output_type": "stream",
     "text": [
      "Numpy Version: 1.26.0\n",
      "Pandas Version: 2.1.1\n",
      "Matplotlib Version: 3.8.0\n",
      "Seaborn Version: 0.13.0\n"
     ]
    }
   ],
   "source": [
    "print(\"Numpy Version:\", np.__version__)\n",
    "print(\"Pandas Version:\", pd.__version__)\n",
    "print(\"Matplotlib Version:\", mpl.__version__)\n",
    "print(\"Seaborn Version:\", sns.__version__)"
   ]
  },
  {
   "cell_type": "markdown",
   "metadata": {},
   "source": [
    "# Import Data"
   ]
  },
  {
   "cell_type": "code",
   "execution_count": 79,
   "metadata": {},
   "outputs": [],
   "source": [
    "# The data is from the competition at https://www.kaggle.com/competitions/heart-attack-risk-analysis/data?select=train.csv\n",
    "\n",
    "data = pd.read_csv('./dataset/Heart Attack Risk Analysis.csv')"
   ]
  },
  {
   "cell_type": "markdown",
   "metadata": {},
   "source": [
    "# Append Country Statistics"
   ]
  },
  {
   "cell_type": "code",
   "execution_count": 80,
   "metadata": {},
   "outputs": [
    {
     "data": {
      "text/html": [
       "<div>\n",
       "<style scoped>\n",
       "    .dataframe tbody tr th:only-of-type {\n",
       "        vertical-align: middle;\n",
       "    }\n",
       "\n",
       "    .dataframe tbody tr th {\n",
       "        vertical-align: top;\n",
       "    }\n",
       "\n",
       "    .dataframe thead th {\n",
       "        text-align: right;\n",
       "    }\n",
       "</style>\n",
       "<table border=\"1\" class=\"dataframe\">\n",
       "  <thead>\n",
       "    <tr style=\"text-align: right;\">\n",
       "      <th></th>\n",
       "      <th>Country</th>\n",
       "    </tr>\n",
       "  </thead>\n",
       "  <tbody>\n",
       "    <tr>\n",
       "      <th>0</th>\n",
       "      <td>Argentina</td>\n",
       "    </tr>\n",
       "    <tr>\n",
       "      <th>1</th>\n",
       "      <td>Nigeria</td>\n",
       "    </tr>\n",
       "    <tr>\n",
       "      <th>2</th>\n",
       "      <td>Thailand</td>\n",
       "    </tr>\n",
       "    <tr>\n",
       "      <th>3</th>\n",
       "      <td>Spain</td>\n",
       "    </tr>\n",
       "    <tr>\n",
       "      <th>4</th>\n",
       "      <td>Germany</td>\n",
       "    </tr>\n",
       "    <tr>\n",
       "      <th>...</th>\n",
       "      <td>...</td>\n",
       "    </tr>\n",
       "    <tr>\n",
       "      <th>7005</th>\n",
       "      <td>France</td>\n",
       "    </tr>\n",
       "    <tr>\n",
       "      <th>7006</th>\n",
       "      <td>United Kingdom</td>\n",
       "    </tr>\n",
       "    <tr>\n",
       "      <th>7007</th>\n",
       "      <td>Colombia</td>\n",
       "    </tr>\n",
       "    <tr>\n",
       "      <th>7008</th>\n",
       "      <td>Spain</td>\n",
       "    </tr>\n",
       "    <tr>\n",
       "      <th>7009</th>\n",
       "      <td>India</td>\n",
       "    </tr>\n",
       "  </tbody>\n",
       "</table>\n",
       "<p>7010 rows × 1 columns</p>\n",
       "</div>"
      ],
      "text/plain": [
       "             Country\n",
       "0          Argentina\n",
       "1            Nigeria\n",
       "2           Thailand\n",
       "3              Spain\n",
       "4            Germany\n",
       "...              ...\n",
       "7005          France\n",
       "7006  United Kingdom\n",
       "7007        Colombia\n",
       "7008           Spain\n",
       "7009           India\n",
       "\n",
       "[7010 rows x 1 columns]"
      ]
     },
     "execution_count": 80,
     "metadata": {},
     "output_type": "execute_result"
    }
   ],
   "source": [
    "country = data[['Country']]\n",
    "country"
   ]
  },
  {
   "cell_type": "code",
   "execution_count": 81,
   "metadata": {},
   "outputs": [],
   "source": [
    "data = pd.read_csv('./dataset/Heart Attack Risk Analysis.csv')\n",
    "coun_cardiac = pd.read_csv('./dataset/cardiovascular-disease-death-rates.csv')\n",
    "coun_gdp = pd.read_csv('./dataset/GDP.csv')\n",
    "coun_index = pd.read_csv('./dataset/legatum prosperity health index.csv')"
   ]
  },
  {
   "cell_type": "code",
   "execution_count": 82,
   "metadata": {},
   "outputs": [
    {
     "data": {
      "text/html": [
       "<div>\n",
       "<style scoped>\n",
       "    .dataframe tbody tr th:only-of-type {\n",
       "        vertical-align: middle;\n",
       "    }\n",
       "\n",
       "    .dataframe tbody tr th {\n",
       "        vertical-align: top;\n",
       "    }\n",
       "\n",
       "    .dataframe thead th {\n",
       "        text-align: right;\n",
       "    }\n",
       "</style>\n",
       "<table border=\"1\" class=\"dataframe\">\n",
       "  <thead>\n",
       "    <tr style=\"text-align: right;\">\n",
       "      <th></th>\n",
       "      <th>Entity</th>\n",
       "      <th>Code</th>\n",
       "      <th>Year</th>\n",
       "      <th>Deaths - Cardiovascular diseases - Sex: Both - Age: Age-standardized (Rate)</th>\n",
       "    </tr>\n",
       "  </thead>\n",
       "  <tbody>\n",
       "    <tr>\n",
       "      <th>0</th>\n",
       "      <td>Afghanistan</td>\n",
       "      <td>AFG</td>\n",
       "      <td>1990</td>\n",
       "      <td>716.27</td>\n",
       "    </tr>\n",
       "    <tr>\n",
       "      <th>1</th>\n",
       "      <td>Afghanistan</td>\n",
       "      <td>AFG</td>\n",
       "      <td>1991</td>\n",
       "      <td>711.20</td>\n",
       "    </tr>\n",
       "    <tr>\n",
       "      <th>2</th>\n",
       "      <td>Afghanistan</td>\n",
       "      <td>AFG</td>\n",
       "      <td>1992</td>\n",
       "      <td>708.28</td>\n",
       "    </tr>\n",
       "    <tr>\n",
       "      <th>3</th>\n",
       "      <td>Afghanistan</td>\n",
       "      <td>AFG</td>\n",
       "      <td>1993</td>\n",
       "      <td>712.87</td>\n",
       "    </tr>\n",
       "    <tr>\n",
       "      <th>4</th>\n",
       "      <td>Afghanistan</td>\n",
       "      <td>AFG</td>\n",
       "      <td>1994</td>\n",
       "      <td>720.74</td>\n",
       "    </tr>\n",
       "  </tbody>\n",
       "</table>\n",
       "</div>"
      ],
      "text/plain": [
       "        Entity Code  Year  \\\n",
       "0  Afghanistan  AFG  1990   \n",
       "1  Afghanistan  AFG  1991   \n",
       "2  Afghanistan  AFG  1992   \n",
       "3  Afghanistan  AFG  1993   \n",
       "4  Afghanistan  AFG  1994   \n",
       "\n",
       "   Deaths - Cardiovascular diseases - Sex: Both - Age: Age-standardized (Rate)  \n",
       "0                                             716.27                            \n",
       "1                                             711.20                            \n",
       "2                                             708.28                            \n",
       "3                                             712.87                            \n",
       "4                                             720.74                            "
      ]
     },
     "execution_count": 82,
     "metadata": {},
     "output_type": "execute_result"
    }
   ],
   "source": [
    "coun_cardiac.head()"
   ]
  },
  {
   "cell_type": "code",
   "execution_count": 83,
   "metadata": {},
   "outputs": [],
   "source": [
    "coun_cardiac = coun_cardiac[coun_cardiac['Year'] == 2017]"
   ]
  },
  {
   "cell_type": "code",
   "execution_count": 84,
   "metadata": {},
   "outputs": [
    {
     "data": {
      "text/html": [
       "<div>\n",
       "<style scoped>\n",
       "    .dataframe tbody tr th:only-of-type {\n",
       "        vertical-align: middle;\n",
       "    }\n",
       "\n",
       "    .dataframe tbody tr th {\n",
       "        vertical-align: top;\n",
       "    }\n",
       "\n",
       "    .dataframe thead th {\n",
       "        text-align: right;\n",
       "    }\n",
       "</style>\n",
       "<table border=\"1\" class=\"dataframe\">\n",
       "  <thead>\n",
       "    <tr style=\"text-align: right;\">\n",
       "      <th></th>\n",
       "      <th>Country</th>\n",
       "      <th>Country Code</th>\n",
       "      <th>1990</th>\n",
       "      <th>1991</th>\n",
       "      <th>1992</th>\n",
       "      <th>1993</th>\n",
       "      <th>1994</th>\n",
       "      <th>1995</th>\n",
       "      <th>1996</th>\n",
       "      <th>1997</th>\n",
       "      <th>...</th>\n",
       "      <th>2010</th>\n",
       "      <th>2011</th>\n",
       "      <th>2012</th>\n",
       "      <th>2013</th>\n",
       "      <th>2014</th>\n",
       "      <th>2015</th>\n",
       "      <th>2016</th>\n",
       "      <th>2017</th>\n",
       "      <th>2018</th>\n",
       "      <th>2019</th>\n",
       "    </tr>\n",
       "  </thead>\n",
       "  <tbody>\n",
       "    <tr>\n",
       "      <th>0</th>\n",
       "      <td>Aruba</td>\n",
       "      <td>ABW</td>\n",
       "      <td>24101.109430</td>\n",
       "      <td>25870.755940</td>\n",
       "      <td>26533.343900</td>\n",
       "      <td>27430.752400</td>\n",
       "      <td>28656.520210</td>\n",
       "      <td>28648.990020</td>\n",
       "      <td>28499.089430</td>\n",
       "      <td>30215.949230</td>\n",
       "      <td>...</td>\n",
       "      <td>33732.847450</td>\n",
       "      <td>35492.618490</td>\n",
       "      <td>35498.982090</td>\n",
       "      <td>37419.892820</td>\n",
       "      <td>38223.372260</td>\n",
       "      <td>38249.054870</td>\n",
       "      <td>38390.271650</td>\n",
       "      <td>39454.629830</td>\n",
       "      <td>NaN</td>\n",
       "      <td>NaN</td>\n",
       "    </tr>\n",
       "    <tr>\n",
       "      <th>1</th>\n",
       "      <td>Afghanistan</td>\n",
       "      <td>AFG</td>\n",
       "      <td>NaN</td>\n",
       "      <td>NaN</td>\n",
       "      <td>NaN</td>\n",
       "      <td>NaN</td>\n",
       "      <td>NaN</td>\n",
       "      <td>NaN</td>\n",
       "      <td>NaN</td>\n",
       "      <td>NaN</td>\n",
       "      <td>...</td>\n",
       "      <td>1637.377987</td>\n",
       "      <td>1626.764793</td>\n",
       "      <td>1806.763930</td>\n",
       "      <td>1874.765634</td>\n",
       "      <td>1897.525938</td>\n",
       "      <td>1886.692977</td>\n",
       "      <td>1896.992520</td>\n",
       "      <td>1934.636754</td>\n",
       "      <td>1955.006208</td>\n",
       "      <td>NaN</td>\n",
       "    </tr>\n",
       "    <tr>\n",
       "      <th>2</th>\n",
       "      <td>Angola</td>\n",
       "      <td>AGO</td>\n",
       "      <td>3089.683369</td>\n",
       "      <td>3120.356148</td>\n",
       "      <td>2908.160798</td>\n",
       "      <td>2190.768160</td>\n",
       "      <td>2195.532289</td>\n",
       "      <td>2496.199493</td>\n",
       "      <td>2794.896906</td>\n",
       "      <td>2953.342709</td>\n",
       "      <td>...</td>\n",
       "      <td>6230.297028</td>\n",
       "      <td>6346.395122</td>\n",
       "      <td>6772.528333</td>\n",
       "      <td>6980.423038</td>\n",
       "      <td>7199.245478</td>\n",
       "      <td>7096.600615</td>\n",
       "      <td>6756.935074</td>\n",
       "      <td>6650.584940</td>\n",
       "      <td>6452.355165</td>\n",
       "      <td>NaN</td>\n",
       "    </tr>\n",
       "    <tr>\n",
       "      <th>3</th>\n",
       "      <td>Albania</td>\n",
       "      <td>ALB</td>\n",
       "      <td>2549.473022</td>\n",
       "      <td>1909.114038</td>\n",
       "      <td>1823.307673</td>\n",
       "      <td>2057.449657</td>\n",
       "      <td>2289.873135</td>\n",
       "      <td>2665.764906</td>\n",
       "      <td>2980.066288</td>\n",
       "      <td>2717.362124</td>\n",
       "      <td>...</td>\n",
       "      <td>9628.025783</td>\n",
       "      <td>10207.752350</td>\n",
       "      <td>10526.235450</td>\n",
       "      <td>10571.010650</td>\n",
       "      <td>11259.225890</td>\n",
       "      <td>11662.030480</td>\n",
       "      <td>11868.178970</td>\n",
       "      <td>12930.140030</td>\n",
       "      <td>13364.155400</td>\n",
       "      <td>NaN</td>\n",
       "    </tr>\n",
       "    <tr>\n",
       "      <th>4</th>\n",
       "      <td>Arab World</td>\n",
       "      <td>ARB</td>\n",
       "      <td>6808.206995</td>\n",
       "      <td>6872.273195</td>\n",
       "      <td>7255.328362</td>\n",
       "      <td>7458.647059</td>\n",
       "      <td>7645.682856</td>\n",
       "      <td>7774.207360</td>\n",
       "      <td>8094.149842</td>\n",
       "      <td>8397.515692</td>\n",
       "      <td>...</td>\n",
       "      <td>14127.778020</td>\n",
       "      <td>14518.827450</td>\n",
       "      <td>15423.465390</td>\n",
       "      <td>15824.780110</td>\n",
       "      <td>16153.244860</td>\n",
       "      <td>16501.792590</td>\n",
       "      <td>16935.383300</td>\n",
       "      <td>17099.889390</td>\n",
       "      <td>17570.137600</td>\n",
       "      <td>NaN</td>\n",
       "    </tr>\n",
       "  </tbody>\n",
       "</table>\n",
       "<p>5 rows × 32 columns</p>\n",
       "</div>"
      ],
      "text/plain": [
       "      Country  Country Code          1990          1991          1992  \\\n",
       "0        Aruba          ABW  24101.109430  25870.755940  26533.343900   \n",
       "1  Afghanistan          AFG           NaN           NaN           NaN   \n",
       "2       Angola          AGO   3089.683369   3120.356148   2908.160798   \n",
       "3      Albania          ALB   2549.473022   1909.114038   1823.307673   \n",
       "4   Arab World          ARB   6808.206995   6872.273195   7255.328362   \n",
       "\n",
       "           1993          1994          1995          1996          1997  ...  \\\n",
       "0  27430.752400  28656.520210  28648.990020  28499.089430  30215.949230  ...   \n",
       "1           NaN           NaN           NaN           NaN           NaN  ...   \n",
       "2   2190.768160   2195.532289   2496.199493   2794.896906   2953.342709  ...   \n",
       "3   2057.449657   2289.873135   2665.764906   2980.066288   2717.362124  ...   \n",
       "4   7458.647059   7645.682856   7774.207360   8094.149842   8397.515692  ...   \n",
       "\n",
       "           2010          2011          2012          2013          2014  \\\n",
       "0  33732.847450  35492.618490  35498.982090  37419.892820  38223.372260   \n",
       "1   1637.377987   1626.764793   1806.763930   1874.765634   1897.525938   \n",
       "2   6230.297028   6346.395122   6772.528333   6980.423038   7199.245478   \n",
       "3   9628.025783  10207.752350  10526.235450  10571.010650  11259.225890   \n",
       "4  14127.778020  14518.827450  15423.465390  15824.780110  16153.244860   \n",
       "\n",
       "           2015          2016          2017          2018  2019  \n",
       "0  38249.054870  38390.271650  39454.629830           NaN   NaN  \n",
       "1   1886.692977   1896.992520   1934.636754   1955.006208   NaN  \n",
       "2   7096.600615   6756.935074   6650.584940   6452.355165   NaN  \n",
       "3  11662.030480  11868.178970  12930.140030  13364.155400   NaN  \n",
       "4  16501.792590  16935.383300  17099.889390  17570.137600   NaN  \n",
       "\n",
       "[5 rows x 32 columns]"
      ]
     },
     "execution_count": 84,
     "metadata": {},
     "output_type": "execute_result"
    }
   ],
   "source": [
    "coun_gdp.head()"
   ]
  },
  {
   "cell_type": "code",
   "execution_count": 85,
   "metadata": {},
   "outputs": [
    {
     "data": {
      "text/html": [
       "<div>\n",
       "<style scoped>\n",
       "    .dataframe tbody tr th:only-of-type {\n",
       "        vertical-align: middle;\n",
       "    }\n",
       "\n",
       "    .dataframe tbody tr th {\n",
       "        vertical-align: top;\n",
       "    }\n",
       "\n",
       "    .dataframe thead th {\n",
       "        text-align: right;\n",
       "    }\n",
       "</style>\n",
       "<table border=\"1\" class=\"dataframe\">\n",
       "  <thead>\n",
       "    <tr style=\"text-align: right;\">\n",
       "      <th></th>\n",
       "      <th>Unnamed: 0</th>\n",
       "      <th>country</th>\n",
       "      <th>health_index</th>\n",
       "    </tr>\n",
       "  </thead>\n",
       "  <tbody>\n",
       "    <tr>\n",
       "      <th>0</th>\n",
       "      <td>0</td>\n",
       "      <td>Singapore</td>\n",
       "      <td>86.89</td>\n",
       "    </tr>\n",
       "    <tr>\n",
       "      <th>1</th>\n",
       "      <td>1</td>\n",
       "      <td>Japan</td>\n",
       "      <td>86.50</td>\n",
       "    </tr>\n",
       "    <tr>\n",
       "      <th>2</th>\n",
       "      <td>2</td>\n",
       "      <td>South Korea</td>\n",
       "      <td>84.80</td>\n",
       "    </tr>\n",
       "    <tr>\n",
       "      <th>3</th>\n",
       "      <td>3</td>\n",
       "      <td>Taiwan, China</td>\n",
       "      <td>83.37</td>\n",
       "    </tr>\n",
       "    <tr>\n",
       "      <th>4</th>\n",
       "      <td>4</td>\n",
       "      <td>China</td>\n",
       "      <td>83.11</td>\n",
       "    </tr>\n",
       "  </tbody>\n",
       "</table>\n",
       "</div>"
      ],
      "text/plain": [
       "   Unnamed: 0        country  health_index\n",
       "0           0      Singapore         86.89\n",
       "1           1          Japan         86.50\n",
       "2           2    South Korea         84.80\n",
       "3           3  Taiwan, China         83.37\n",
       "4           4          China         83.11"
      ]
     },
     "execution_count": 85,
     "metadata": {},
     "output_type": "execute_result"
    }
   ],
   "source": [
    "coun_index.head()"
   ]
  },
  {
   "cell_type": "code",
   "execution_count": 86,
   "metadata": {},
   "outputs": [
    {
     "name": "stdout",
     "output_type": "stream",
     "text": [
      "coun_gdp does not have \"South Korea\"\n"
     ]
    }
   ],
   "source": [
    "for c in country['Country'].unique():\n",
    "    if c not in coun_cardiac['Entity'].unique():\n",
    "        print('coun_cardiac does not have \"' + c + '\"')\n",
    "    if c not in coun_gdp['Country '].unique():\n",
    "        print('coun_gdp does not have \"' + c + '\"')\n",
    "    if c not in coun_index['country'].unique():\n",
    "        print('coun_index does not have \"' + c + '\"')"
   ]
  },
  {
   "cell_type": "code",
   "execution_count": 87,
   "metadata": {},
   "outputs": [
    {
     "data": {
      "text/html": [
       "<div>\n",
       "<style scoped>\n",
       "    .dataframe tbody tr th:only-of-type {\n",
       "        vertical-align: middle;\n",
       "    }\n",
       "\n",
       "    .dataframe tbody tr th {\n",
       "        vertical-align: top;\n",
       "    }\n",
       "\n",
       "    .dataframe thead th {\n",
       "        text-align: right;\n",
       "    }\n",
       "</style>\n",
       "<table border=\"1\" class=\"dataframe\">\n",
       "  <thead>\n",
       "    <tr style=\"text-align: right;\">\n",
       "      <th></th>\n",
       "      <th>Country</th>\n",
       "      <th>Country Code</th>\n",
       "      <th>1990</th>\n",
       "      <th>1991</th>\n",
       "      <th>1992</th>\n",
       "      <th>1993</th>\n",
       "      <th>1994</th>\n",
       "      <th>1995</th>\n",
       "      <th>1996</th>\n",
       "      <th>1997</th>\n",
       "      <th>...</th>\n",
       "      <th>2010</th>\n",
       "      <th>2011</th>\n",
       "      <th>2012</th>\n",
       "      <th>2013</th>\n",
       "      <th>2014</th>\n",
       "      <th>2015</th>\n",
       "      <th>2016</th>\n",
       "      <th>2017</th>\n",
       "      <th>2018</th>\n",
       "      <th>2019</th>\n",
       "    </tr>\n",
       "  </thead>\n",
       "  <tbody>\n",
       "    <tr>\n",
       "      <th>120</th>\n",
       "      <td>Korea, Rep.</td>\n",
       "      <td>KOR</td>\n",
       "      <td>8273.406045</td>\n",
       "      <td>9345.822855</td>\n",
       "      <td>10044.19063</td>\n",
       "      <td>10875.12437</td>\n",
       "      <td>12008.47377</td>\n",
       "      <td>13299.16144</td>\n",
       "      <td>14433.0009</td>\n",
       "      <td>15406.22038</td>\n",
       "      <td>...</td>\n",
       "      <td>30365.27837</td>\n",
       "      <td>31228.5107</td>\n",
       "      <td>32097.164</td>\n",
       "      <td>32615.77259</td>\n",
       "      <td>33587.5834</td>\n",
       "      <td>35760.73444</td>\n",
       "      <td>37142.8329</td>\n",
       "      <td>38824.11539</td>\n",
       "      <td>40111.77576</td>\n",
       "      <td>NaN</td>\n",
       "    </tr>\n",
       "  </tbody>\n",
       "</table>\n",
       "<p>1 rows × 32 columns</p>\n",
       "</div>"
      ],
      "text/plain": [
       "        Country  Country Code         1990         1991         1992  \\\n",
       "120  Korea, Rep.          KOR  8273.406045  9345.822855  10044.19063   \n",
       "\n",
       "            1993         1994         1995        1996         1997  ...  \\\n",
       "120  10875.12437  12008.47377  13299.16144  14433.0009  15406.22038  ...   \n",
       "\n",
       "            2010        2011       2012         2013        2014         2015  \\\n",
       "120  30365.27837  31228.5107  32097.164  32615.77259  33587.5834  35760.73444   \n",
       "\n",
       "           2016         2017         2018  2019  \n",
       "120  37142.8329  38824.11539  40111.77576   NaN  \n",
       "\n",
       "[1 rows x 32 columns]"
      ]
     },
     "execution_count": 87,
     "metadata": {},
     "output_type": "execute_result"
    }
   ],
   "source": [
    "coun_gdp[coun_gdp['Country Code'] == 'KOR']"
   ]
  },
  {
   "cell_type": "code",
   "execution_count": 88,
   "metadata": {},
   "outputs": [],
   "source": [
    "coun_gdp['Country '] = coun_gdp['Country '].replace({'Korea, Rep.': 'South Korea'})"
   ]
  },
  {
   "cell_type": "code",
   "execution_count": 89,
   "metadata": {},
   "outputs": [
    {
     "data": {
      "text/html": [
       "<div>\n",
       "<style scoped>\n",
       "    .dataframe tbody tr th:only-of-type {\n",
       "        vertical-align: middle;\n",
       "    }\n",
       "\n",
       "    .dataframe tbody tr th {\n",
       "        vertical-align: top;\n",
       "    }\n",
       "\n",
       "    .dataframe thead th {\n",
       "        text-align: right;\n",
       "    }\n",
       "</style>\n",
       "<table border=\"1\" class=\"dataframe\">\n",
       "  <thead>\n",
       "    <tr style=\"text-align: right;\">\n",
       "      <th></th>\n",
       "      <th>Country</th>\n",
       "      <th>Country Code</th>\n",
       "      <th>1990</th>\n",
       "      <th>1991</th>\n",
       "      <th>1992</th>\n",
       "      <th>1993</th>\n",
       "      <th>1994</th>\n",
       "      <th>1995</th>\n",
       "      <th>1996</th>\n",
       "      <th>1997</th>\n",
       "      <th>...</th>\n",
       "      <th>2010</th>\n",
       "      <th>2011</th>\n",
       "      <th>2012</th>\n",
       "      <th>2013</th>\n",
       "      <th>2014</th>\n",
       "      <th>2015</th>\n",
       "      <th>2016</th>\n",
       "      <th>2017</th>\n",
       "      <th>2018</th>\n",
       "      <th>2019</th>\n",
       "    </tr>\n",
       "  </thead>\n",
       "  <tbody>\n",
       "    <tr>\n",
       "      <th>120</th>\n",
       "      <td>South Korea</td>\n",
       "      <td>KOR</td>\n",
       "      <td>8273.406045</td>\n",
       "      <td>9345.822855</td>\n",
       "      <td>10044.19063</td>\n",
       "      <td>10875.12437</td>\n",
       "      <td>12008.47377</td>\n",
       "      <td>13299.16144</td>\n",
       "      <td>14433.0009</td>\n",
       "      <td>15406.22038</td>\n",
       "      <td>...</td>\n",
       "      <td>30365.27837</td>\n",
       "      <td>31228.5107</td>\n",
       "      <td>32097.164</td>\n",
       "      <td>32615.77259</td>\n",
       "      <td>33587.5834</td>\n",
       "      <td>35760.73444</td>\n",
       "      <td>37142.8329</td>\n",
       "      <td>38824.11539</td>\n",
       "      <td>40111.77576</td>\n",
       "      <td>NaN</td>\n",
       "    </tr>\n",
       "  </tbody>\n",
       "</table>\n",
       "<p>1 rows × 32 columns</p>\n",
       "</div>"
      ],
      "text/plain": [
       "        Country  Country Code         1990         1991         1992  \\\n",
       "120  South Korea          KOR  8273.406045  9345.822855  10044.19063   \n",
       "\n",
       "            1993         1994         1995        1996         1997  ...  \\\n",
       "120  10875.12437  12008.47377  13299.16144  14433.0009  15406.22038  ...   \n",
       "\n",
       "            2010        2011       2012         2013        2014         2015  \\\n",
       "120  30365.27837  31228.5107  32097.164  32615.77259  33587.5834  35760.73444   \n",
       "\n",
       "           2016         2017         2018  2019  \n",
       "120  37142.8329  38824.11539  40111.77576   NaN  \n",
       "\n",
       "[1 rows x 32 columns]"
      ]
     },
     "execution_count": 89,
     "metadata": {},
     "output_type": "execute_result"
    }
   ],
   "source": [
    "coun_gdp[coun_gdp['Country Code'] == 'KOR']"
   ]
  },
  {
   "cell_type": "code",
   "execution_count": 90,
   "metadata": {},
   "outputs": [],
   "source": [
    "data = data.merge(coun_index[['country', 'health_index']], how='left', left_on='Country', right_on='country')"
   ]
  },
  {
   "cell_type": "code",
   "execution_count": 91,
   "metadata": {},
   "outputs": [],
   "source": [
    "data = data.merge(coun_gdp[['Country ', '2018']], how='left', left_on='Country', right_on='Country ')"
   ]
  },
  {
   "cell_type": "code",
   "execution_count": 92,
   "metadata": {},
   "outputs": [],
   "source": [
    "data = data.merge(coun_cardiac[['Entity', 'Deaths - Cardiovascular diseases - Sex: Both - Age: Age-standardized (Rate)']], how='left', left_on='Country', right_on='Entity')"
   ]
  },
  {
   "cell_type": "code",
   "execution_count": 93,
   "metadata": {},
   "outputs": [
    {
     "data": {
      "text/html": [
       "<div>\n",
       "<style scoped>\n",
       "    .dataframe tbody tr th:only-of-type {\n",
       "        vertical-align: middle;\n",
       "    }\n",
       "\n",
       "    .dataframe tbody tr th {\n",
       "        vertical-align: top;\n",
       "    }\n",
       "\n",
       "    .dataframe thead th {\n",
       "        text-align: right;\n",
       "    }\n",
       "</style>\n",
       "<table border=\"1\" class=\"dataframe\">\n",
       "  <thead>\n",
       "    <tr style=\"text-align: right;\">\n",
       "      <th></th>\n",
       "      <th>Patient ID</th>\n",
       "      <th>Age</th>\n",
       "      <th>Sex</th>\n",
       "      <th>Cholesterol</th>\n",
       "      <th>Blood Pressure</th>\n",
       "      <th>Heart Rate</th>\n",
       "      <th>Diabetes</th>\n",
       "      <th>Family History</th>\n",
       "      <th>Smoking</th>\n",
       "      <th>Obesity</th>\n",
       "      <th>...</th>\n",
       "      <th>Country</th>\n",
       "      <th>Continent</th>\n",
       "      <th>Hemisphere</th>\n",
       "      <th>Heart Attack Risk</th>\n",
       "      <th>country</th>\n",
       "      <th>health_index</th>\n",
       "      <th>Country</th>\n",
       "      <th>2018</th>\n",
       "      <th>Entity</th>\n",
       "      <th>Deaths - Cardiovascular diseases - Sex: Both - Age: Age-standardized (Rate)</th>\n",
       "    </tr>\n",
       "  </thead>\n",
       "  <tbody>\n",
       "    <tr>\n",
       "      <th>0</th>\n",
       "      <td>RDG0550</td>\n",
       "      <td>33</td>\n",
       "      <td>Male</td>\n",
       "      <td>200</td>\n",
       "      <td>129/90</td>\n",
       "      <td>48</td>\n",
       "      <td>0</td>\n",
       "      <td>1</td>\n",
       "      <td>1</td>\n",
       "      <td>1</td>\n",
       "      <td>...</td>\n",
       "      <td>Argentina</td>\n",
       "      <td>South America</td>\n",
       "      <td>Southern Hemisphere</td>\n",
       "      <td>1</td>\n",
       "      <td>Argentina</td>\n",
       "      <td>74.45</td>\n",
       "      <td>Argentina</td>\n",
       "      <td>20610.568550</td>\n",
       "      <td>Argentina</td>\n",
       "      <td>190.14</td>\n",
       "    </tr>\n",
       "    <tr>\n",
       "      <th>1</th>\n",
       "      <td>NMA3851</td>\n",
       "      <td>56</td>\n",
       "      <td>Female</td>\n",
       "      <td>262</td>\n",
       "      <td>159/105</td>\n",
       "      <td>46</td>\n",
       "      <td>1</td>\n",
       "      <td>0</td>\n",
       "      <td>1</td>\n",
       "      <td>0</td>\n",
       "      <td>...</td>\n",
       "      <td>Nigeria</td>\n",
       "      <td>Africa</td>\n",
       "      <td>Northern Hemisphere</td>\n",
       "      <td>1</td>\n",
       "      <td>Nigeria</td>\n",
       "      <td>50.12</td>\n",
       "      <td>Nigeria</td>\n",
       "      <td>5990.850432</td>\n",
       "      <td>Nigeria</td>\n",
       "      <td>241.54</td>\n",
       "    </tr>\n",
       "    <tr>\n",
       "      <th>2</th>\n",
       "      <td>TUI5807</td>\n",
       "      <td>19</td>\n",
       "      <td>Female</td>\n",
       "      <td>140</td>\n",
       "      <td>161/109</td>\n",
       "      <td>54</td>\n",
       "      <td>0</td>\n",
       "      <td>1</td>\n",
       "      <td>0</td>\n",
       "      <td>0</td>\n",
       "      <td>...</td>\n",
       "      <td>Thailand</td>\n",
       "      <td>Asia</td>\n",
       "      <td>Northern Hemisphere</td>\n",
       "      <td>0</td>\n",
       "      <td>Thailand</td>\n",
       "      <td>78.92</td>\n",
       "      <td>Thailand</td>\n",
       "      <td>19051.333380</td>\n",
       "      <td>Thailand</td>\n",
       "      <td>118.67</td>\n",
       "    </tr>\n",
       "    <tr>\n",
       "      <th>3</th>\n",
       "      <td>YYT5016</td>\n",
       "      <td>50</td>\n",
       "      <td>Female</td>\n",
       "      <td>163</td>\n",
       "      <td>120/62</td>\n",
       "      <td>53</td>\n",
       "      <td>0</td>\n",
       "      <td>1</td>\n",
       "      <td>1</td>\n",
       "      <td>1</td>\n",
       "      <td>...</td>\n",
       "      <td>Spain</td>\n",
       "      <td>Europe</td>\n",
       "      <td>Southern Hemisphere</td>\n",
       "      <td>1</td>\n",
       "      <td>Spain</td>\n",
       "      <td>79.66</td>\n",
       "      <td>Spain</td>\n",
       "      <td>39715.439060</td>\n",
       "      <td>Spain</td>\n",
       "      <td>106.88</td>\n",
       "    </tr>\n",
       "    <tr>\n",
       "      <th>4</th>\n",
       "      <td>ZAC5937</td>\n",
       "      <td>89</td>\n",
       "      <td>Female</td>\n",
       "      <td>144</td>\n",
       "      <td>153/110</td>\n",
       "      <td>92</td>\n",
       "      <td>1</td>\n",
       "      <td>0</td>\n",
       "      <td>1</td>\n",
       "      <td>0</td>\n",
       "      <td>...</td>\n",
       "      <td>Germany</td>\n",
       "      <td>Europe</td>\n",
       "      <td>Northern Hemisphere</td>\n",
       "      <td>1</td>\n",
       "      <td>Germany</td>\n",
       "      <td>81.41</td>\n",
       "      <td>Germany</td>\n",
       "      <td>53074.540120</td>\n",
       "      <td>Germany</td>\n",
       "      <td>161.49</td>\n",
       "    </tr>\n",
       "    <tr>\n",
       "      <th>...</th>\n",
       "      <td>...</td>\n",
       "      <td>...</td>\n",
       "      <td>...</td>\n",
       "      <td>...</td>\n",
       "      <td>...</td>\n",
       "      <td>...</td>\n",
       "      <td>...</td>\n",
       "      <td>...</td>\n",
       "      <td>...</td>\n",
       "      <td>...</td>\n",
       "      <td>...</td>\n",
       "      <td>...</td>\n",
       "      <td>...</td>\n",
       "      <td>...</td>\n",
       "      <td>...</td>\n",
       "      <td>...</td>\n",
       "      <td>...</td>\n",
       "      <td>...</td>\n",
       "      <td>...</td>\n",
       "      <td>...</td>\n",
       "      <td>...</td>\n",
       "    </tr>\n",
       "    <tr>\n",
       "      <th>7005</th>\n",
       "      <td>BCB2291</td>\n",
       "      <td>29</td>\n",
       "      <td>Female</td>\n",
       "      <td>267</td>\n",
       "      <td>104/105</td>\n",
       "      <td>87</td>\n",
       "      <td>0</td>\n",
       "      <td>0</td>\n",
       "      <td>0</td>\n",
       "      <td>1</td>\n",
       "      <td>...</td>\n",
       "      <td>France</td>\n",
       "      <td>Europe</td>\n",
       "      <td>Northern Hemisphere</td>\n",
       "      <td>0</td>\n",
       "      <td>France</td>\n",
       "      <td>80.46</td>\n",
       "      <td>France</td>\n",
       "      <td>45342.395740</td>\n",
       "      <td>France</td>\n",
       "      <td>91.33</td>\n",
       "    </tr>\n",
       "    <tr>\n",
       "      <th>7006</th>\n",
       "      <td>KIG5207</td>\n",
       "      <td>83</td>\n",
       "      <td>Male</td>\n",
       "      <td>296</td>\n",
       "      <td>134/99</td>\n",
       "      <td>77</td>\n",
       "      <td>1</td>\n",
       "      <td>1</td>\n",
       "      <td>1</td>\n",
       "      <td>1</td>\n",
       "      <td>...</td>\n",
       "      <td>United Kingdom</td>\n",
       "      <td>Europe</td>\n",
       "      <td>Northern Hemisphere</td>\n",
       "      <td>0</td>\n",
       "      <td>United Kingdom</td>\n",
       "      <td>78.31</td>\n",
       "      <td>United Kingdom</td>\n",
       "      <td>45973.573500</td>\n",
       "      <td>United Kingdom</td>\n",
       "      <td>129.12</td>\n",
       "    </tr>\n",
       "    <tr>\n",
       "      <th>7007</th>\n",
       "      <td>GCY1316</td>\n",
       "      <td>54</td>\n",
       "      <td>Male</td>\n",
       "      <td>120</td>\n",
       "      <td>134/84</td>\n",
       "      <td>103</td>\n",
       "      <td>1</td>\n",
       "      <td>1</td>\n",
       "      <td>1</td>\n",
       "      <td>1</td>\n",
       "      <td>...</td>\n",
       "      <td>Colombia</td>\n",
       "      <td>South America</td>\n",
       "      <td>Northern Hemisphere</td>\n",
       "      <td>0</td>\n",
       "      <td>Colombia</td>\n",
       "      <td>77.78</td>\n",
       "      <td>Colombia</td>\n",
       "      <td>15012.930270</td>\n",
       "      <td>Colombia</td>\n",
       "      <td>132.62</td>\n",
       "    </tr>\n",
       "    <tr>\n",
       "      <th>7008</th>\n",
       "      <td>RPK2629</td>\n",
       "      <td>42</td>\n",
       "      <td>Female</td>\n",
       "      <td>147</td>\n",
       "      <td>144/76</td>\n",
       "      <td>81</td>\n",
       "      <td>0</td>\n",
       "      <td>0</td>\n",
       "      <td>1</td>\n",
       "      <td>0</td>\n",
       "      <td>...</td>\n",
       "      <td>Spain</td>\n",
       "      <td>Europe</td>\n",
       "      <td>Southern Hemisphere</td>\n",
       "      <td>1</td>\n",
       "      <td>Spain</td>\n",
       "      <td>79.66</td>\n",
       "      <td>Spain</td>\n",
       "      <td>39715.439060</td>\n",
       "      <td>Spain</td>\n",
       "      <td>106.88</td>\n",
       "    </tr>\n",
       "    <tr>\n",
       "      <th>7009</th>\n",
       "      <td>CWO3455</td>\n",
       "      <td>61</td>\n",
       "      <td>Male</td>\n",
       "      <td>176</td>\n",
       "      <td>172/60</td>\n",
       "      <td>56</td>\n",
       "      <td>0</td>\n",
       "      <td>1</td>\n",
       "      <td>1</td>\n",
       "      <td>0</td>\n",
       "      <td>...</td>\n",
       "      <td>India</td>\n",
       "      <td>Asia</td>\n",
       "      <td>Northern Hemisphere</td>\n",
       "      <td>0</td>\n",
       "      <td>India</td>\n",
       "      <td>66.16</td>\n",
       "      <td>India</td>\n",
       "      <td>7762.881770</td>\n",
       "      <td>India</td>\n",
       "      <td>255.26</td>\n",
       "    </tr>\n",
       "  </tbody>\n",
       "</table>\n",
       "<p>7010 rows × 32 columns</p>\n",
       "</div>"
      ],
      "text/plain": [
       "     Patient ID  Age     Sex  Cholesterol Blood Pressure  Heart Rate  \\\n",
       "0       RDG0550   33    Male          200         129/90          48   \n",
       "1       NMA3851   56  Female          262        159/105          46   \n",
       "2       TUI5807   19  Female          140        161/109          54   \n",
       "3       YYT5016   50  Female          163         120/62          53   \n",
       "4       ZAC5937   89  Female          144        153/110          92   \n",
       "...         ...  ...     ...          ...            ...         ...   \n",
       "7005    BCB2291   29  Female          267        104/105          87   \n",
       "7006    KIG5207   83    Male          296         134/99          77   \n",
       "7007    GCY1316   54    Male          120         134/84         103   \n",
       "7008    RPK2629   42  Female          147         144/76          81   \n",
       "7009    CWO3455   61    Male          176         172/60          56   \n",
       "\n",
       "      Diabetes  Family History  Smoking  Obesity  ...         Country  \\\n",
       "0            0               1        1        1  ...       Argentina   \n",
       "1            1               0        1        0  ...         Nigeria   \n",
       "2            0               1        0        0  ...        Thailand   \n",
       "3            0               1        1        1  ...           Spain   \n",
       "4            1               0        1        0  ...         Germany   \n",
       "...        ...             ...      ...      ...  ...             ...   \n",
       "7005         0               0        0        1  ...          France   \n",
       "7006         1               1        1        1  ...  United Kingdom   \n",
       "7007         1               1        1        1  ...        Colombia   \n",
       "7008         0               0        1        0  ...           Spain   \n",
       "7009         0               1        1        0  ...           India   \n",
       "\n",
       "          Continent           Hemisphere  Heart Attack Risk         country  \\\n",
       "0     South America  Southern Hemisphere                  1       Argentina   \n",
       "1            Africa  Northern Hemisphere                  1         Nigeria   \n",
       "2              Asia  Northern Hemisphere                  0        Thailand   \n",
       "3            Europe  Southern Hemisphere                  1           Spain   \n",
       "4            Europe  Northern Hemisphere                  1         Germany   \n",
       "...             ...                  ...                ...             ...   \n",
       "7005         Europe  Northern Hemisphere                  0          France   \n",
       "7006         Europe  Northern Hemisphere                  0  United Kingdom   \n",
       "7007  South America  Northern Hemisphere                  0        Colombia   \n",
       "7008         Europe  Southern Hemisphere                  1           Spain   \n",
       "7009           Asia  Northern Hemisphere                  0           India   \n",
       "\n",
       "      health_index        Country           2018          Entity  \\\n",
       "0            74.45       Argentina  20610.568550       Argentina   \n",
       "1            50.12         Nigeria   5990.850432         Nigeria   \n",
       "2            78.92        Thailand  19051.333380        Thailand   \n",
       "3            79.66           Spain  39715.439060           Spain   \n",
       "4            81.41         Germany  53074.540120         Germany   \n",
       "...            ...             ...           ...             ...   \n",
       "7005         80.46          France  45342.395740          France   \n",
       "7006         78.31  United Kingdom  45973.573500  United Kingdom   \n",
       "7007         77.78        Colombia  15012.930270        Colombia   \n",
       "7008         79.66           Spain  39715.439060           Spain   \n",
       "7009         66.16           India   7762.881770           India   \n",
       "\n",
       "      Deaths - Cardiovascular diseases - Sex: Both - Age: Age-standardized (Rate)  \n",
       "0                                                190.14                            \n",
       "1                                                241.54                            \n",
       "2                                                118.67                            \n",
       "3                                                106.88                            \n",
       "4                                                161.49                            \n",
       "...                                                 ...                            \n",
       "7005                                              91.33                            \n",
       "7006                                             129.12                            \n",
       "7007                                             132.62                            \n",
       "7008                                             106.88                            \n",
       "7009                                             255.26                            \n",
       "\n",
       "[7010 rows x 32 columns]"
      ]
     },
     "execution_count": 93,
     "metadata": {},
     "output_type": "execute_result"
    }
   ],
   "source": [
    "data"
   ]
  },
  {
   "cell_type": "code",
   "execution_count": 94,
   "metadata": {},
   "outputs": [],
   "source": [
    "data['Health Index'] = data['health_index']\n",
    "data['GDP (2018)'] = data['2018']\n",
    "data['Death Rate'] = data['Deaths - Cardiovascular diseases - Sex: Both - Age: Age-standardized (Rate)']\n",
    "data.drop(['Country ', 'country', 'health_index', '2018', 'Entity', 'Deaths - Cardiovascular diseases - Sex: Both - Age: Age-standardized (Rate)'], axis=1, inplace=True)"
   ]
  },
  {
   "cell_type": "code",
   "execution_count": 95,
   "metadata": {},
   "outputs": [
    {
     "data": {
      "text/html": [
       "<div>\n",
       "<style scoped>\n",
       "    .dataframe tbody tr th:only-of-type {\n",
       "        vertical-align: middle;\n",
       "    }\n",
       "\n",
       "    .dataframe tbody tr th {\n",
       "        vertical-align: top;\n",
       "    }\n",
       "\n",
       "    .dataframe thead th {\n",
       "        text-align: right;\n",
       "    }\n",
       "</style>\n",
       "<table border=\"1\" class=\"dataframe\">\n",
       "  <thead>\n",
       "    <tr style=\"text-align: right;\">\n",
       "      <th></th>\n",
       "      <th>Patient ID</th>\n",
       "      <th>Age</th>\n",
       "      <th>Sex</th>\n",
       "      <th>Cholesterol</th>\n",
       "      <th>Blood Pressure</th>\n",
       "      <th>Heart Rate</th>\n",
       "      <th>Diabetes</th>\n",
       "      <th>Family History</th>\n",
       "      <th>Smoking</th>\n",
       "      <th>Obesity</th>\n",
       "      <th>...</th>\n",
       "      <th>Triglycerides</th>\n",
       "      <th>Physical Activity Days Per Week</th>\n",
       "      <th>Sleep Hours Per Day</th>\n",
       "      <th>Country</th>\n",
       "      <th>Continent</th>\n",
       "      <th>Hemisphere</th>\n",
       "      <th>Heart Attack Risk</th>\n",
       "      <th>Health Index</th>\n",
       "      <th>GDP (2018)</th>\n",
       "      <th>Death Rate</th>\n",
       "    </tr>\n",
       "  </thead>\n",
       "  <tbody>\n",
       "    <tr>\n",
       "      <th>0</th>\n",
       "      <td>RDG0550</td>\n",
       "      <td>33</td>\n",
       "      <td>Male</td>\n",
       "      <td>200</td>\n",
       "      <td>129/90</td>\n",
       "      <td>48</td>\n",
       "      <td>0</td>\n",
       "      <td>1</td>\n",
       "      <td>1</td>\n",
       "      <td>1</td>\n",
       "      <td>...</td>\n",
       "      <td>63</td>\n",
       "      <td>6</td>\n",
       "      <td>7</td>\n",
       "      <td>Argentina</td>\n",
       "      <td>South America</td>\n",
       "      <td>Southern Hemisphere</td>\n",
       "      <td>1</td>\n",
       "      <td>74.45</td>\n",
       "      <td>20610.568550</td>\n",
       "      <td>190.14</td>\n",
       "    </tr>\n",
       "    <tr>\n",
       "      <th>1</th>\n",
       "      <td>NMA3851</td>\n",
       "      <td>56</td>\n",
       "      <td>Female</td>\n",
       "      <td>262</td>\n",
       "      <td>159/105</td>\n",
       "      <td>46</td>\n",
       "      <td>1</td>\n",
       "      <td>0</td>\n",
       "      <td>1</td>\n",
       "      <td>0</td>\n",
       "      <td>...</td>\n",
       "      <td>333</td>\n",
       "      <td>7</td>\n",
       "      <td>8</td>\n",
       "      <td>Nigeria</td>\n",
       "      <td>Africa</td>\n",
       "      <td>Northern Hemisphere</td>\n",
       "      <td>1</td>\n",
       "      <td>50.12</td>\n",
       "      <td>5990.850432</td>\n",
       "      <td>241.54</td>\n",
       "    </tr>\n",
       "    <tr>\n",
       "      <th>2</th>\n",
       "      <td>TUI5807</td>\n",
       "      <td>19</td>\n",
       "      <td>Female</td>\n",
       "      <td>140</td>\n",
       "      <td>161/109</td>\n",
       "      <td>54</td>\n",
       "      <td>0</td>\n",
       "      <td>1</td>\n",
       "      <td>0</td>\n",
       "      <td>0</td>\n",
       "      <td>...</td>\n",
       "      <td>537</td>\n",
       "      <td>2</td>\n",
       "      <td>10</td>\n",
       "      <td>Thailand</td>\n",
       "      <td>Asia</td>\n",
       "      <td>Northern Hemisphere</td>\n",
       "      <td>0</td>\n",
       "      <td>78.92</td>\n",
       "      <td>19051.333380</td>\n",
       "      <td>118.67</td>\n",
       "    </tr>\n",
       "    <tr>\n",
       "      <th>3</th>\n",
       "      <td>YYT5016</td>\n",
       "      <td>50</td>\n",
       "      <td>Female</td>\n",
       "      <td>163</td>\n",
       "      <td>120/62</td>\n",
       "      <td>53</td>\n",
       "      <td>0</td>\n",
       "      <td>1</td>\n",
       "      <td>1</td>\n",
       "      <td>1</td>\n",
       "      <td>...</td>\n",
       "      <td>591</td>\n",
       "      <td>0</td>\n",
       "      <td>9</td>\n",
       "      <td>Spain</td>\n",
       "      <td>Europe</td>\n",
       "      <td>Southern Hemisphere</td>\n",
       "      <td>1</td>\n",
       "      <td>79.66</td>\n",
       "      <td>39715.439060</td>\n",
       "      <td>106.88</td>\n",
       "    </tr>\n",
       "    <tr>\n",
       "      <th>4</th>\n",
       "      <td>ZAC5937</td>\n",
       "      <td>89</td>\n",
       "      <td>Female</td>\n",
       "      <td>144</td>\n",
       "      <td>153/110</td>\n",
       "      <td>92</td>\n",
       "      <td>1</td>\n",
       "      <td>0</td>\n",
       "      <td>1</td>\n",
       "      <td>0</td>\n",
       "      <td>...</td>\n",
       "      <td>145</td>\n",
       "      <td>2</td>\n",
       "      <td>5</td>\n",
       "      <td>Germany</td>\n",
       "      <td>Europe</td>\n",
       "      <td>Northern Hemisphere</td>\n",
       "      <td>1</td>\n",
       "      <td>81.41</td>\n",
       "      <td>53074.540120</td>\n",
       "      <td>161.49</td>\n",
       "    </tr>\n",
       "  </tbody>\n",
       "</table>\n",
       "<p>5 rows × 29 columns</p>\n",
       "</div>"
      ],
      "text/plain": [
       "  Patient ID  Age     Sex  Cholesterol Blood Pressure  Heart Rate  Diabetes  \\\n",
       "0    RDG0550   33    Male          200         129/90          48         0   \n",
       "1    NMA3851   56  Female          262        159/105          46         1   \n",
       "2    TUI5807   19  Female          140        161/109          54         0   \n",
       "3    YYT5016   50  Female          163         120/62          53         0   \n",
       "4    ZAC5937   89  Female          144        153/110          92         1   \n",
       "\n",
       "   Family History  Smoking  Obesity  ...  Triglycerides  \\\n",
       "0               1        1        1  ...             63   \n",
       "1               0        1        0  ...            333   \n",
       "2               1        0        0  ...            537   \n",
       "3               1        1        1  ...            591   \n",
       "4               0        1        0  ...            145   \n",
       "\n",
       "   Physical Activity Days Per Week Sleep Hours Per Day    Country  \\\n",
       "0                                6                   7  Argentina   \n",
       "1                                7                   8    Nigeria   \n",
       "2                                2                  10   Thailand   \n",
       "3                                0                   9      Spain   \n",
       "4                                2                   5    Germany   \n",
       "\n",
       "       Continent           Hemisphere  Heart Attack Risk  Health Index  \\\n",
       "0  South America  Southern Hemisphere                  1         74.45   \n",
       "1         Africa  Northern Hemisphere                  1         50.12   \n",
       "2           Asia  Northern Hemisphere                  0         78.92   \n",
       "3         Europe  Southern Hemisphere                  1         79.66   \n",
       "4         Europe  Northern Hemisphere                  1         81.41   \n",
       "\n",
       "     GDP (2018)  Death Rate  \n",
       "0  20610.568550      190.14  \n",
       "1   5990.850432      241.54  \n",
       "2  19051.333380      118.67  \n",
       "3  39715.439060      106.88  \n",
       "4  53074.540120      161.49  \n",
       "\n",
       "[5 rows x 29 columns]"
      ]
     },
     "execution_count": 95,
     "metadata": {},
     "output_type": "execute_result"
    }
   ],
   "source": [
    "data.head()"
   ]
  },
  {
   "cell_type": "code",
   "execution_count": 96,
   "metadata": {},
   "outputs": [],
   "source": [
    "data.to_csv('./dataset/merged 001.csv')"
   ]
  },
  {
   "cell_type": "markdown",
   "metadata": {},
   "source": [
    "### Get to know the data"
   ]
  },
  {
   "cell_type": "code",
   "execution_count": 20,
   "metadata": {},
   "outputs": [
    {
     "data": {
      "text/html": [
       "<div>\n",
       "<style scoped>\n",
       "    .dataframe tbody tr th:only-of-type {\n",
       "        vertical-align: middle;\n",
       "    }\n",
       "\n",
       "    .dataframe tbody tr th {\n",
       "        vertical-align: top;\n",
       "    }\n",
       "\n",
       "    .dataframe thead th {\n",
       "        text-align: right;\n",
       "    }\n",
       "</style>\n",
       "<table border=\"1\" class=\"dataframe\">\n",
       "  <thead>\n",
       "    <tr style=\"text-align: right;\">\n",
       "      <th></th>\n",
       "      <th>Patient ID</th>\n",
       "      <th>Age</th>\n",
       "      <th>Sex</th>\n",
       "      <th>Cholesterol</th>\n",
       "      <th>Blood Pressure</th>\n",
       "      <th>Heart Rate</th>\n",
       "      <th>Diabetes</th>\n",
       "      <th>Family History</th>\n",
       "      <th>Smoking</th>\n",
       "      <th>Obesity</th>\n",
       "      <th>...</th>\n",
       "      <th>Triglycerides</th>\n",
       "      <th>Physical Activity Days Per Week</th>\n",
       "      <th>Sleep Hours Per Day</th>\n",
       "      <th>Country</th>\n",
       "      <th>Continent</th>\n",
       "      <th>Hemisphere</th>\n",
       "      <th>Heart Attack Risk</th>\n",
       "      <th>Health Index</th>\n",
       "      <th>GDP (2018)</th>\n",
       "      <th>Death Rate</th>\n",
       "    </tr>\n",
       "  </thead>\n",
       "  <tbody>\n",
       "    <tr>\n",
       "      <th>0</th>\n",
       "      <td>RDG0550</td>\n",
       "      <td>33</td>\n",
       "      <td>Male</td>\n",
       "      <td>200</td>\n",
       "      <td>129/90</td>\n",
       "      <td>48</td>\n",
       "      <td>0</td>\n",
       "      <td>1</td>\n",
       "      <td>1</td>\n",
       "      <td>1</td>\n",
       "      <td>...</td>\n",
       "      <td>63</td>\n",
       "      <td>6</td>\n",
       "      <td>7</td>\n",
       "      <td>Argentina</td>\n",
       "      <td>South America</td>\n",
       "      <td>Southern Hemisphere</td>\n",
       "      <td>1</td>\n",
       "      <td>74.45</td>\n",
       "      <td>20610.568550</td>\n",
       "      <td>190.14</td>\n",
       "    </tr>\n",
       "    <tr>\n",
       "      <th>1</th>\n",
       "      <td>NMA3851</td>\n",
       "      <td>56</td>\n",
       "      <td>Female</td>\n",
       "      <td>262</td>\n",
       "      <td>159/105</td>\n",
       "      <td>46</td>\n",
       "      <td>1</td>\n",
       "      <td>0</td>\n",
       "      <td>1</td>\n",
       "      <td>0</td>\n",
       "      <td>...</td>\n",
       "      <td>333</td>\n",
       "      <td>7</td>\n",
       "      <td>8</td>\n",
       "      <td>Nigeria</td>\n",
       "      <td>Africa</td>\n",
       "      <td>Northern Hemisphere</td>\n",
       "      <td>1</td>\n",
       "      <td>50.12</td>\n",
       "      <td>5990.850432</td>\n",
       "      <td>241.54</td>\n",
       "    </tr>\n",
       "    <tr>\n",
       "      <th>2</th>\n",
       "      <td>TUI5807</td>\n",
       "      <td>19</td>\n",
       "      <td>Female</td>\n",
       "      <td>140</td>\n",
       "      <td>161/109</td>\n",
       "      <td>54</td>\n",
       "      <td>0</td>\n",
       "      <td>1</td>\n",
       "      <td>0</td>\n",
       "      <td>0</td>\n",
       "      <td>...</td>\n",
       "      <td>537</td>\n",
       "      <td>2</td>\n",
       "      <td>10</td>\n",
       "      <td>Thailand</td>\n",
       "      <td>Asia</td>\n",
       "      <td>Northern Hemisphere</td>\n",
       "      <td>0</td>\n",
       "      <td>78.92</td>\n",
       "      <td>19051.333380</td>\n",
       "      <td>118.67</td>\n",
       "    </tr>\n",
       "    <tr>\n",
       "      <th>3</th>\n",
       "      <td>YYT5016</td>\n",
       "      <td>50</td>\n",
       "      <td>Female</td>\n",
       "      <td>163</td>\n",
       "      <td>120/62</td>\n",
       "      <td>53</td>\n",
       "      <td>0</td>\n",
       "      <td>1</td>\n",
       "      <td>1</td>\n",
       "      <td>1</td>\n",
       "      <td>...</td>\n",
       "      <td>591</td>\n",
       "      <td>0</td>\n",
       "      <td>9</td>\n",
       "      <td>Spain</td>\n",
       "      <td>Europe</td>\n",
       "      <td>Southern Hemisphere</td>\n",
       "      <td>1</td>\n",
       "      <td>79.66</td>\n",
       "      <td>39715.439060</td>\n",
       "      <td>106.88</td>\n",
       "    </tr>\n",
       "    <tr>\n",
       "      <th>4</th>\n",
       "      <td>ZAC5937</td>\n",
       "      <td>89</td>\n",
       "      <td>Female</td>\n",
       "      <td>144</td>\n",
       "      <td>153/110</td>\n",
       "      <td>92</td>\n",
       "      <td>1</td>\n",
       "      <td>0</td>\n",
       "      <td>1</td>\n",
       "      <td>0</td>\n",
       "      <td>...</td>\n",
       "      <td>145</td>\n",
       "      <td>2</td>\n",
       "      <td>5</td>\n",
       "      <td>Germany</td>\n",
       "      <td>Europe</td>\n",
       "      <td>Northern Hemisphere</td>\n",
       "      <td>1</td>\n",
       "      <td>81.41</td>\n",
       "      <td>53074.540120</td>\n",
       "      <td>161.49</td>\n",
       "    </tr>\n",
       "  </tbody>\n",
       "</table>\n",
       "<p>5 rows × 29 columns</p>\n",
       "</div>"
      ],
      "text/plain": [
       "  Patient ID  Age     Sex  Cholesterol Blood Pressure  Heart Rate  Diabetes  \\\n",
       "0    RDG0550   33    Male          200         129/90          48         0   \n",
       "1    NMA3851   56  Female          262        159/105          46         1   \n",
       "2    TUI5807   19  Female          140        161/109          54         0   \n",
       "3    YYT5016   50  Female          163         120/62          53         0   \n",
       "4    ZAC5937   89  Female          144        153/110          92         1   \n",
       "\n",
       "   Family History  Smoking  Obesity  ...  Triglycerides  \\\n",
       "0               1        1        1  ...             63   \n",
       "1               0        1        0  ...            333   \n",
       "2               1        0        0  ...            537   \n",
       "3               1        1        1  ...            591   \n",
       "4               0        1        0  ...            145   \n",
       "\n",
       "   Physical Activity Days Per Week Sleep Hours Per Day    Country  \\\n",
       "0                                6                   7  Argentina   \n",
       "1                                7                   8    Nigeria   \n",
       "2                                2                  10   Thailand   \n",
       "3                                0                   9      Spain   \n",
       "4                                2                   5    Germany   \n",
       "\n",
       "       Continent           Hemisphere  Heart Attack Risk  Health Index  \\\n",
       "0  South America  Southern Hemisphere                  1         74.45   \n",
       "1         Africa  Northern Hemisphere                  1         50.12   \n",
       "2           Asia  Northern Hemisphere                  0         78.92   \n",
       "3         Europe  Southern Hemisphere                  1         79.66   \n",
       "4         Europe  Northern Hemisphere                  1         81.41   \n",
       "\n",
       "     GDP (2018)  Death Rate  \n",
       "0  20610.568550      190.14  \n",
       "1   5990.850432      241.54  \n",
       "2  19051.333380      118.67  \n",
       "3  39715.439060      106.88  \n",
       "4  53074.540120      161.49  \n",
       "\n",
       "[5 rows x 29 columns]"
      ]
     },
     "execution_count": 20,
     "metadata": {},
     "output_type": "execute_result"
    }
   ],
   "source": [
    "data.head()"
   ]
  },
  {
   "cell_type": "code",
   "execution_count": 21,
   "metadata": {},
   "outputs": [
    {
     "data": {
      "text/plain": [
       "(7010, 29)"
      ]
     },
     "execution_count": 21,
     "metadata": {},
     "output_type": "execute_result"
    }
   ],
   "source": [
    "# Data consists of 26 features (label included) and 7010 rows\n",
    "\n",
    "data.shape"
   ]
  },
  {
   "cell_type": "code",
   "execution_count": 22,
   "metadata": {},
   "outputs": [
    {
     "name": "stdout",
     "output_type": "stream",
     "text": [
      "<class 'pandas.core.frame.DataFrame'>\n",
      "RangeIndex: 7010 entries, 0 to 7009\n",
      "Data columns (total 29 columns):\n",
      " #   Column                           Non-Null Count  Dtype  \n",
      "---  ------                           --------------  -----  \n",
      " 0   Patient ID                       7010 non-null   object \n",
      " 1   Age                              7010 non-null   int64  \n",
      " 2   Sex                              7010 non-null   object \n",
      " 3   Cholesterol                      7010 non-null   int64  \n",
      " 4   Blood Pressure                   7010 non-null   object \n",
      " 5   Heart Rate                       7010 non-null   int64  \n",
      " 6   Diabetes                         7010 non-null   int64  \n",
      " 7   Family History                   7010 non-null   int64  \n",
      " 8   Smoking                          7010 non-null   int64  \n",
      " 9   Obesity                          7010 non-null   int64  \n",
      " 10  Alcohol Consumption              7010 non-null   int64  \n",
      " 11  Exercise Hours Per Week          7010 non-null   float64\n",
      " 12  Diet                             7010 non-null   object \n",
      " 13  Previous Heart Problems          7010 non-null   int64  \n",
      " 14  Medication Use                   7010 non-null   int64  \n",
      " 15  Stress Level                     7010 non-null   int64  \n",
      " 16  Sedentary Hours Per Day          7010 non-null   float64\n",
      " 17  Income                           7010 non-null   int64  \n",
      " 18  BMI                              7010 non-null   float64\n",
      " 19  Triglycerides                    7010 non-null   int64  \n",
      " 20  Physical Activity Days Per Week  7010 non-null   int64  \n",
      " 21  Sleep Hours Per Day              7010 non-null   int64  \n",
      " 22  Country                          7010 non-null   object \n",
      " 23  Continent                        7010 non-null   object \n",
      " 24  Hemisphere                       7010 non-null   object \n",
      " 25  Heart Attack Risk                7010 non-null   int64  \n",
      " 26  Health Index                     7010 non-null   float64\n",
      " 27  GDP (2018)                       7010 non-null   float64\n",
      " 28  Death Rate                       7010 non-null   float64\n",
      "dtypes: float64(6), int64(16), object(7)\n",
      "memory usage: 1.6+ MB\n"
     ]
    }
   ],
   "source": [
    "data.info()"
   ]
  },
  {
   "cell_type": "code",
   "execution_count": 23,
   "metadata": {},
   "outputs": [
    {
     "data": {
      "text/plain": [
       "0"
      ]
     },
     "execution_count": 23,
     "metadata": {},
     "output_type": "execute_result"
    }
   ],
   "source": [
    "# There is no nan in data\n",
    "\n",
    "data.isna().sum().sum()"
   ]
  },
  {
   "cell_type": "markdown",
   "metadata": {},
   "source": [
    "#### The number of unique value in each column"
   ]
  },
  {
   "cell_type": "code",
   "execution_count": 24,
   "metadata": {},
   "outputs": [
    {
     "name": "stdout",
     "output_type": "stream",
     "text": [
      "Unique values in each column \n",
      "==================================================\n",
      "Patient ID: 7010\n",
      "Age: 73\n",
      "Sex: 2\n",
      "Cholesterol: 281\n",
      "Blood Pressure: 3590\n",
      "Heart Rate: 71\n",
      "Diabetes: 2\n",
      "Family History: 2\n",
      "Smoking: 2\n",
      "Obesity: 2\n",
      "Alcohol Consumption: 2\n",
      "Exercise Hours Per Week: 7010\n",
      "Diet: 3\n",
      "Previous Heart Problems: 2\n",
      "Medication Use: 2\n",
      "Stress Level: 10\n",
      "Sedentary Hours Per Day: 7010\n",
      "Income: 6921\n",
      "BMI: 7010\n",
      "Triglycerides: 771\n",
      "Physical Activity Days Per Week: 8\n",
      "Sleep Hours Per Day: 7\n",
      "Country: 20\n",
      "Continent: 6\n",
      "Hemisphere: 2\n",
      "Heart Attack Risk: 2\n",
      "Health Index: 20\n",
      "GDP (2018): 20\n",
      "Death Rate: 20\n"
     ]
    }
   ],
   "source": [
    "print(f'Unique values in each column \\n{\"=\"*50}')\n",
    "\n",
    "for c in data.columns:\n",
    "    print(f'{c}: {data[c].unique().shape[0]}')"
   ]
  },
  {
   "cell_type": "markdown",
   "metadata": {},
   "source": [
    "#### Categorize columns for easier encoding"
   ]
  },
  {
   "cell_type": "markdown",
   "metadata": {},
   "source": [
    "This is how our data looks like. "
   ]
  },
  {
   "cell_type": "markdown",
   "metadata": {},
   "source": [
    "| Age | Sex | Cholesterol | Blood Pressure | Heart Rate | Diabetes | Family History | Smoking | Obesity | Alcohol Consu-mption | Exercise Hours Per Week | Diet | Previous Heart Problems | Medi-cation Use | Stress Level | Sedentary Hours Per Day | Income | BMI | Trigly-cerides | Physical Activity Days Per Week | Sleep Hours Per Day | Country | Continent | Hemi-sphere | Heart Attack Risk | Health Index | GDP (2018) | Death Rate |\n",
    "|-----|-----|-------------|----------------|------------|----------|-----------------|---------|---------|---------------------|-------------------------|------|-------------------------|-----------------|--------------|--------------------------|--------|-----|---------------|---------------------------------|----------------------|---------|-----------|------------|-------------------|-------------------|-------------------|-------------------|\n",
    "| int | binary | float | float | int | binary | binary | binary | binary | binary | float | ordinal (3) | binary | binary | ordinal (10) | float | float | float | int | int | int | cat (20) | cat(6) | binary | target (bi) | float | float | float\n",
    "\n"
   ]
  },
  {
   "cell_type": "markdown",
   "metadata": {},
   "source": [
    "## EDA"
   ]
  },
  {
   "cell_type": "markdown",
   "metadata": {},
   "source": [
    "### Encoding data.copy() for corr()"
   ]
  },
  {
   "cell_type": "code",
   "execution_count": 25,
   "metadata": {},
   "outputs": [
    {
     "data": {
      "text/html": [
       "<div>\n",
       "<style scoped>\n",
       "    .dataframe tbody tr th:only-of-type {\n",
       "        vertical-align: middle;\n",
       "    }\n",
       "\n",
       "    .dataframe tbody tr th {\n",
       "        vertical-align: top;\n",
       "    }\n",
       "\n",
       "    .dataframe thead th {\n",
       "        text-align: right;\n",
       "    }\n",
       "</style>\n",
       "<table border=\"1\" class=\"dataframe\">\n",
       "  <thead>\n",
       "    <tr style=\"text-align: right;\">\n",
       "      <th></th>\n",
       "      <th>Patient ID</th>\n",
       "      <th>Age</th>\n",
       "      <th>Sex</th>\n",
       "      <th>Cholesterol</th>\n",
       "      <th>Blood Pressure</th>\n",
       "      <th>Heart Rate</th>\n",
       "      <th>Diabetes</th>\n",
       "      <th>Family History</th>\n",
       "      <th>Smoking</th>\n",
       "      <th>Obesity</th>\n",
       "      <th>...</th>\n",
       "      <th>Triglycerides</th>\n",
       "      <th>Physical Activity Days Per Week</th>\n",
       "      <th>Sleep Hours Per Day</th>\n",
       "      <th>Country</th>\n",
       "      <th>Continent</th>\n",
       "      <th>Hemisphere</th>\n",
       "      <th>Heart Attack Risk</th>\n",
       "      <th>Health Index</th>\n",
       "      <th>GDP (2018)</th>\n",
       "      <th>Death Rate</th>\n",
       "    </tr>\n",
       "  </thead>\n",
       "  <tbody>\n",
       "    <tr>\n",
       "      <th>0</th>\n",
       "      <td>RDG0550</td>\n",
       "      <td>33</td>\n",
       "      <td>Male</td>\n",
       "      <td>200</td>\n",
       "      <td>129/90</td>\n",
       "      <td>48</td>\n",
       "      <td>0</td>\n",
       "      <td>1</td>\n",
       "      <td>1</td>\n",
       "      <td>1</td>\n",
       "      <td>...</td>\n",
       "      <td>63</td>\n",
       "      <td>6</td>\n",
       "      <td>7</td>\n",
       "      <td>Argentina</td>\n",
       "      <td>South America</td>\n",
       "      <td>Southern Hemisphere</td>\n",
       "      <td>1</td>\n",
       "      <td>74.45</td>\n",
       "      <td>20610.568550</td>\n",
       "      <td>190.14</td>\n",
       "    </tr>\n",
       "    <tr>\n",
       "      <th>1</th>\n",
       "      <td>NMA3851</td>\n",
       "      <td>56</td>\n",
       "      <td>Female</td>\n",
       "      <td>262</td>\n",
       "      <td>159/105</td>\n",
       "      <td>46</td>\n",
       "      <td>1</td>\n",
       "      <td>0</td>\n",
       "      <td>1</td>\n",
       "      <td>0</td>\n",
       "      <td>...</td>\n",
       "      <td>333</td>\n",
       "      <td>7</td>\n",
       "      <td>8</td>\n",
       "      <td>Nigeria</td>\n",
       "      <td>Africa</td>\n",
       "      <td>Northern Hemisphere</td>\n",
       "      <td>1</td>\n",
       "      <td>50.12</td>\n",
       "      <td>5990.850432</td>\n",
       "      <td>241.54</td>\n",
       "    </tr>\n",
       "    <tr>\n",
       "      <th>2</th>\n",
       "      <td>TUI5807</td>\n",
       "      <td>19</td>\n",
       "      <td>Female</td>\n",
       "      <td>140</td>\n",
       "      <td>161/109</td>\n",
       "      <td>54</td>\n",
       "      <td>0</td>\n",
       "      <td>1</td>\n",
       "      <td>0</td>\n",
       "      <td>0</td>\n",
       "      <td>...</td>\n",
       "      <td>537</td>\n",
       "      <td>2</td>\n",
       "      <td>10</td>\n",
       "      <td>Thailand</td>\n",
       "      <td>Asia</td>\n",
       "      <td>Northern Hemisphere</td>\n",
       "      <td>0</td>\n",
       "      <td>78.92</td>\n",
       "      <td>19051.333380</td>\n",
       "      <td>118.67</td>\n",
       "    </tr>\n",
       "    <tr>\n",
       "      <th>3</th>\n",
       "      <td>YYT5016</td>\n",
       "      <td>50</td>\n",
       "      <td>Female</td>\n",
       "      <td>163</td>\n",
       "      <td>120/62</td>\n",
       "      <td>53</td>\n",
       "      <td>0</td>\n",
       "      <td>1</td>\n",
       "      <td>1</td>\n",
       "      <td>1</td>\n",
       "      <td>...</td>\n",
       "      <td>591</td>\n",
       "      <td>0</td>\n",
       "      <td>9</td>\n",
       "      <td>Spain</td>\n",
       "      <td>Europe</td>\n",
       "      <td>Southern Hemisphere</td>\n",
       "      <td>1</td>\n",
       "      <td>79.66</td>\n",
       "      <td>39715.439060</td>\n",
       "      <td>106.88</td>\n",
       "    </tr>\n",
       "    <tr>\n",
       "      <th>4</th>\n",
       "      <td>ZAC5937</td>\n",
       "      <td>89</td>\n",
       "      <td>Female</td>\n",
       "      <td>144</td>\n",
       "      <td>153/110</td>\n",
       "      <td>92</td>\n",
       "      <td>1</td>\n",
       "      <td>0</td>\n",
       "      <td>1</td>\n",
       "      <td>0</td>\n",
       "      <td>...</td>\n",
       "      <td>145</td>\n",
       "      <td>2</td>\n",
       "      <td>5</td>\n",
       "      <td>Germany</td>\n",
       "      <td>Europe</td>\n",
       "      <td>Northern Hemisphere</td>\n",
       "      <td>1</td>\n",
       "      <td>81.41</td>\n",
       "      <td>53074.540120</td>\n",
       "      <td>161.49</td>\n",
       "    </tr>\n",
       "  </tbody>\n",
       "</table>\n",
       "<p>5 rows × 29 columns</p>\n",
       "</div>"
      ],
      "text/plain": [
       "  Patient ID  Age     Sex  Cholesterol Blood Pressure  Heart Rate  Diabetes  \\\n",
       "0    RDG0550   33    Male          200         129/90          48         0   \n",
       "1    NMA3851   56  Female          262        159/105          46         1   \n",
       "2    TUI5807   19  Female          140        161/109          54         0   \n",
       "3    YYT5016   50  Female          163         120/62          53         0   \n",
       "4    ZAC5937   89  Female          144        153/110          92         1   \n",
       "\n",
       "   Family History  Smoking  Obesity  ...  Triglycerides  \\\n",
       "0               1        1        1  ...             63   \n",
       "1               0        1        0  ...            333   \n",
       "2               1        0        0  ...            537   \n",
       "3               1        1        1  ...            591   \n",
       "4               0        1        0  ...            145   \n",
       "\n",
       "   Physical Activity Days Per Week Sleep Hours Per Day    Country  \\\n",
       "0                                6                   7  Argentina   \n",
       "1                                7                   8    Nigeria   \n",
       "2                                2                  10   Thailand   \n",
       "3                                0                   9      Spain   \n",
       "4                                2                   5    Germany   \n",
       "\n",
       "       Continent           Hemisphere  Heart Attack Risk  Health Index  \\\n",
       "0  South America  Southern Hemisphere                  1         74.45   \n",
       "1         Africa  Northern Hemisphere                  1         50.12   \n",
       "2           Asia  Northern Hemisphere                  0         78.92   \n",
       "3         Europe  Southern Hemisphere                  1         79.66   \n",
       "4         Europe  Northern Hemisphere                  1         81.41   \n",
       "\n",
       "     GDP (2018)  Death Rate  \n",
       "0  20610.568550      190.14  \n",
       "1   5990.850432      241.54  \n",
       "2  19051.333380      118.67  \n",
       "3  39715.439060      106.88  \n",
       "4  53074.540120      161.49  \n",
       "\n",
       "[5 rows x 29 columns]"
      ]
     },
     "execution_count": 25,
     "metadata": {},
     "output_type": "execute_result"
    }
   ],
   "source": [
    "data.head()"
   ]
  },
  {
   "cell_type": "code",
   "execution_count": 26,
   "metadata": {},
   "outputs": [],
   "source": [
    "# Create temp object so we don't have to worry about data leakage during EDA\n",
    "temp = data.copy()\n",
    "\n",
    "# Encode Sex Hemisphere and Diet \n",
    "temp['Sex'].replace({'Male': 0, 'Female': 1}, inplace=True)\n",
    "temp['Hemisphere'].replace({'Northern Hemisphere': 0, 'Southern Hemisphere': 1}, inplace=True)\n",
    "temp['Diet'].replace({'Unhealthy': 0, 'Average': 1, 'Healthy':2}, inplace=True)"
   ]
  },
  {
   "cell_type": "code",
   "execution_count": 27,
   "metadata": {},
   "outputs": [],
   "source": [
    "from sklearn.preprocessing import MinMaxScaler, OneHotEncoder\n",
    "\n",
    "mms = MinMaxScaler()\n",
    "ohe = OneHotEncoder(sparse_output=False)\n",
    "\n",
    "# Encode Continent\n",
    "encoded = pd.DataFrame(ohe.fit_transform(temp[['Continent']]), columns=ohe.get_feature_names_out(['Continent']))\n",
    "temp = pd.concat([temp.drop(['Continent', 'Country', 'Patient ID'], axis=1), encoded], axis=1)"
   ]
  },
  {
   "cell_type": "code",
   "execution_count": 28,
   "metadata": {},
   "outputs": [],
   "source": [
    "# Split blood pressure into two values\n",
    "temp[['Systolic BP', 'Diastolic BP']] = temp['Blood Pressure'].str.split('/', expand=True).astype(int)\n",
    "temp.drop('Blood Pressure', axis=1, inplace=True)"
   ]
  },
  {
   "cell_type": "code",
   "execution_count": 29,
   "metadata": {},
   "outputs": [
    {
     "data": {
      "text/plain": [
       "Index([], dtype='object')"
      ]
     },
     "execution_count": 29,
     "metadata": {},
     "output_type": "execute_result"
    }
   ],
   "source": [
    "# Check if there is any object type column left\n",
    "temp.select_dtypes(include='object').columns"
   ]
  },
  {
   "cell_type": "code",
   "execution_count": 30,
   "metadata": {},
   "outputs": [],
   "source": [
    "# Scale everything to better see correlation\n",
    "temp = pd.DataFrame(mms.fit_transform(temp), columns=temp.columns)"
   ]
  },
  {
   "cell_type": "code",
   "execution_count": 31,
   "metadata": {},
   "outputs": [
    {
     "data": {
      "text/html": [
       "<div>\n",
       "<style scoped>\n",
       "    .dataframe tbody tr th:only-of-type {\n",
       "        vertical-align: middle;\n",
       "    }\n",
       "\n",
       "    .dataframe tbody tr th {\n",
       "        vertical-align: top;\n",
       "    }\n",
       "\n",
       "    .dataframe thead th {\n",
       "        text-align: right;\n",
       "    }\n",
       "</style>\n",
       "<table border=\"1\" class=\"dataframe\">\n",
       "  <thead>\n",
       "    <tr style=\"text-align: right;\">\n",
       "      <th></th>\n",
       "      <th>Age</th>\n",
       "      <th>Sex</th>\n",
       "      <th>Cholesterol</th>\n",
       "      <th>Heart Rate</th>\n",
       "      <th>Diabetes</th>\n",
       "      <th>Family History</th>\n",
       "      <th>Smoking</th>\n",
       "      <th>Obesity</th>\n",
       "      <th>Alcohol Consumption</th>\n",
       "      <th>Exercise Hours Per Week</th>\n",
       "      <th>...</th>\n",
       "      <th>GDP (2018)</th>\n",
       "      <th>Death Rate</th>\n",
       "      <th>Continent_Africa</th>\n",
       "      <th>Continent_Asia</th>\n",
       "      <th>Continent_Australia</th>\n",
       "      <th>Continent_Europe</th>\n",
       "      <th>Continent_North America</th>\n",
       "      <th>Continent_South America</th>\n",
       "      <th>Systolic BP</th>\n",
       "      <th>Diastolic BP</th>\n",
       "    </tr>\n",
       "  </thead>\n",
       "  <tbody>\n",
       "    <tr>\n",
       "      <th>0</th>\n",
       "      <td>0.208333</td>\n",
       "      <td>0.0</td>\n",
       "      <td>0.285714</td>\n",
       "      <td>0.114286</td>\n",
       "      <td>0.0</td>\n",
       "      <td>1.0</td>\n",
       "      <td>1.0</td>\n",
       "      <td>1.0</td>\n",
       "      <td>1.0</td>\n",
       "      <td>0.390335</td>\n",
       "      <td>...</td>\n",
       "      <td>0.257372</td>\n",
       "      <td>0.482810</td>\n",
       "      <td>0.0</td>\n",
       "      <td>0.0</td>\n",
       "      <td>0.0</td>\n",
       "      <td>0.0</td>\n",
       "      <td>0.0</td>\n",
       "      <td>1.0</td>\n",
       "      <td>0.433333</td>\n",
       "      <td>0.60</td>\n",
       "    </tr>\n",
       "    <tr>\n",
       "      <th>1</th>\n",
       "      <td>0.527778</td>\n",
       "      <td>1.0</td>\n",
       "      <td>0.507143</td>\n",
       "      <td>0.085714</td>\n",
       "      <td>1.0</td>\n",
       "      <td>0.0</td>\n",
       "      <td>1.0</td>\n",
       "      <td>0.0</td>\n",
       "      <td>0.0</td>\n",
       "      <td>0.864921</td>\n",
       "      <td>...</td>\n",
       "      <td>0.000000</td>\n",
       "      <td>0.702328</td>\n",
       "      <td>1.0</td>\n",
       "      <td>0.0</td>\n",
       "      <td>0.0</td>\n",
       "      <td>0.0</td>\n",
       "      <td>0.0</td>\n",
       "      <td>0.0</td>\n",
       "      <td>0.766667</td>\n",
       "      <td>0.90</td>\n",
       "    </tr>\n",
       "    <tr>\n",
       "      <th>2</th>\n",
       "      <td>0.013889</td>\n",
       "      <td>1.0</td>\n",
       "      <td>0.071429</td>\n",
       "      <td>0.200000</td>\n",
       "      <td>0.0</td>\n",
       "      <td>1.0</td>\n",
       "      <td>0.0</td>\n",
       "      <td>0.0</td>\n",
       "      <td>1.0</td>\n",
       "      <td>0.434723</td>\n",
       "      <td>...</td>\n",
       "      <td>0.229923</td>\n",
       "      <td>0.177578</td>\n",
       "      <td>0.0</td>\n",
       "      <td>1.0</td>\n",
       "      <td>0.0</td>\n",
       "      <td>0.0</td>\n",
       "      <td>0.0</td>\n",
       "      <td>0.0</td>\n",
       "      <td>0.788889</td>\n",
       "      <td>0.98</td>\n",
       "    </tr>\n",
       "    <tr>\n",
       "      <th>3</th>\n",
       "      <td>0.444444</td>\n",
       "      <td>1.0</td>\n",
       "      <td>0.153571</td>\n",
       "      <td>0.185714</td>\n",
       "      <td>0.0</td>\n",
       "      <td>1.0</td>\n",
       "      <td>1.0</td>\n",
       "      <td>1.0</td>\n",
       "      <td>1.0</td>\n",
       "      <td>0.508052</td>\n",
       "      <td>...</td>\n",
       "      <td>0.593704</td>\n",
       "      <td>0.127226</td>\n",
       "      <td>0.0</td>\n",
       "      <td>0.0</td>\n",
       "      <td>0.0</td>\n",
       "      <td>1.0</td>\n",
       "      <td>0.0</td>\n",
       "      <td>0.0</td>\n",
       "      <td>0.333333</td>\n",
       "      <td>0.04</td>\n",
       "    </tr>\n",
       "    <tr>\n",
       "      <th>4</th>\n",
       "      <td>0.986111</td>\n",
       "      <td>1.0</td>\n",
       "      <td>0.085714</td>\n",
       "      <td>0.742857</td>\n",
       "      <td>1.0</td>\n",
       "      <td>0.0</td>\n",
       "      <td>1.0</td>\n",
       "      <td>0.0</td>\n",
       "      <td>1.0</td>\n",
       "      <td>0.821871</td>\n",
       "      <td>...</td>\n",
       "      <td>0.828884</td>\n",
       "      <td>0.360453</td>\n",
       "      <td>0.0</td>\n",
       "      <td>0.0</td>\n",
       "      <td>0.0</td>\n",
       "      <td>1.0</td>\n",
       "      <td>0.0</td>\n",
       "      <td>0.0</td>\n",
       "      <td>0.700000</td>\n",
       "      <td>1.00</td>\n",
       "    </tr>\n",
       "  </tbody>\n",
       "</table>\n",
       "<p>5 rows × 33 columns</p>\n",
       "</div>"
      ],
      "text/plain": [
       "        Age  Sex  Cholesterol  Heart Rate  Diabetes  Family History  Smoking  \\\n",
       "0  0.208333  0.0     0.285714    0.114286       0.0             1.0      1.0   \n",
       "1  0.527778  1.0     0.507143    0.085714       1.0             0.0      1.0   \n",
       "2  0.013889  1.0     0.071429    0.200000       0.0             1.0      0.0   \n",
       "3  0.444444  1.0     0.153571    0.185714       0.0             1.0      1.0   \n",
       "4  0.986111  1.0     0.085714    0.742857       1.0             0.0      1.0   \n",
       "\n",
       "   Obesity  Alcohol Consumption  Exercise Hours Per Week  ...  GDP (2018)  \\\n",
       "0      1.0                  1.0                 0.390335  ...    0.257372   \n",
       "1      0.0                  0.0                 0.864921  ...    0.000000   \n",
       "2      0.0                  1.0                 0.434723  ...    0.229923   \n",
       "3      1.0                  1.0                 0.508052  ...    0.593704   \n",
       "4      0.0                  1.0                 0.821871  ...    0.828884   \n",
       "\n",
       "   Death Rate  Continent_Africa  Continent_Asia  Continent_Australia  \\\n",
       "0    0.482810               0.0             0.0                  0.0   \n",
       "1    0.702328               1.0             0.0                  0.0   \n",
       "2    0.177578               0.0             1.0                  0.0   \n",
       "3    0.127226               0.0             0.0                  0.0   \n",
       "4    0.360453               0.0             0.0                  0.0   \n",
       "\n",
       "   Continent_Europe  Continent_North America  Continent_South America  \\\n",
       "0               0.0                      0.0                      1.0   \n",
       "1               0.0                      0.0                      0.0   \n",
       "2               0.0                      0.0                      0.0   \n",
       "3               1.0                      0.0                      0.0   \n",
       "4               1.0                      0.0                      0.0   \n",
       "\n",
       "   Systolic BP  Diastolic BP  \n",
       "0     0.433333          0.60  \n",
       "1     0.766667          0.90  \n",
       "2     0.788889          0.98  \n",
       "3     0.333333          0.04  \n",
       "4     0.700000          1.00  \n",
       "\n",
       "[5 rows x 33 columns]"
      ]
     },
     "execution_count": 31,
     "metadata": {},
     "output_type": "execute_result"
    }
   ],
   "source": [
    "temp.head()"
   ]
  },
  {
   "cell_type": "markdown",
   "metadata": {},
   "source": [
    "### Correlation"
   ]
  },
  {
   "cell_type": "code",
   "execution_count": 32,
   "metadata": {},
   "outputs": [
    {
     "data": {
      "text/plain": [
       "Heart Attack Risk                  1.000000\n",
       "Diabetes                           0.031538\n",
       "Cholesterol                        0.020793\n",
       "Systolic BP                        0.019081\n",
       "Continent_North America            0.016937\n",
       "Continent_Europe                  -0.016856\n",
       "Sleep Hours Per Day               -0.016473\n",
       "Exercise Hours Per Week            0.016020\n",
       "Continent_South America            0.013976\n",
       "Triglycerides                      0.013863\n",
       "Previous Heart Problems            0.013482\n",
       "Continent_Asia                    -0.013400\n",
       "Obesity                           -0.012291\n",
       "Age                                0.012095\n",
       "Death Rate                        -0.012069\n",
       "Income                             0.010967\n",
       "Alcohol Consumption               -0.009732\n",
       "Continent_Africa                   0.006191\n",
       "GDP (2018)                         0.006066\n",
       "Health Index                      -0.005993\n",
       "Smoking                           -0.005188\n",
       "Family History                    -0.005145\n",
       "Continent_Australia                0.004878\n",
       "Heart Rate                        -0.004405\n",
       "Hemisphere                        -0.003918\n",
       "Diastolic BP                      -0.003699\n",
       "Sex                               -0.003186\n",
       "Diet                               0.001537\n",
       "Sedentary Hours Per Day           -0.001363\n",
       "BMI                               -0.000672\n",
       "Physical Activity Days Per Week    0.000532\n",
       "Medication Use                    -0.000213\n",
       "Stress Level                       0.000077\n",
       "Name: Heart Attack Risk, dtype: float64"
      ]
     },
     "execution_count": 32,
     "metadata": {},
     "output_type": "execute_result"
    }
   ],
   "source": [
    "temp.corr().loc['Heart Attack Risk'].sort_values(ascending=False, key=lambda x: abs(x))"
   ]
  },
  {
   "cell_type": "markdown",
   "metadata": {},
   "source": [
    "From the above correlation, `Diabetes`, `Cholesterol`, `Systolic BP`, `Sleep Hours Per Day`, `Excersise Hours Per Week`, `Triglycerides`, `Previous Heart Problems`, and `Age` have the leading correlation to the target\n",
    "\n",
    "One interesting thing is `Continent` plays a distinctive correlation with the target. It suggests residents in North America tend to have positive prone to heart attack risk while Europeans are vice versa.\n",
    "\n",
    "Some correlation suggests a counterintuitive analysis such as `Obesity` decreases the heart attack risk."
   ]
  },
  {
   "cell_type": "code",
   "execution_count": 33,
   "metadata": {},
   "outputs": [],
   "source": [
    "# import ppscore\n",
    "\n",
    "# ppscore.predictors(temp, 'Heart Attack Risk')"
   ]
  },
  {
   "cell_type": "markdown",
   "metadata": {},
   "source": [
    "### Visualize the data distribution"
   ]
  },
  {
   "cell_type": "code",
   "execution_count": 34,
   "metadata": {},
   "outputs": [
    {
     "data": {
      "text/plain": [
       "<Axes: xlabel='Heart Attack Risk', ylabel='count'>"
      ]
     },
     "execution_count": 34,
     "metadata": {},
     "output_type": "execute_result"
    },
    {
     "data": {
      "image/png": "[encoded data removed]",
      "text/plain": [
       "<Figure size 640x480 with 1 Axes>"
      ]
     },
     "metadata": {},
     "output_type": "display_data"
    }
   ],
   "source": [
    "sns.countplot(data, x='Heart Attack Risk', hue='Heart Attack Risk', legend=False)"
   ]
  },
  {
   "cell_type": "code",
   "execution_count": 35,
   "metadata": {},
   "outputs": [
    {
     "data": {
      "text/plain": [
       "<Axes: xlabel='Diabetes', ylabel='count'>"
      ]
     },
     "execution_count": 35,
     "metadata": {},
     "output_type": "execute_result"
    },
    {
     "data": {
      "image/png": "[encoded data removed]",
      "text/plain": [
       "<Figure size 640x480 with 1 Axes>"
      ]
     },
     "metadata": {},
     "output_type": "display_data"
    }
   ],
   "source": [
    "sns.countplot(data, x='Diabetes', hue='Heart Attack Risk') "
   ]
  },
  {
   "cell_type": "code",
   "execution_count": 36,
   "metadata": {},
   "outputs": [
    {
     "data": {
      "text/plain": [
       "<Axes: xlabel='Cholesterol', ylabel='Count'>"
      ]
     },
     "execution_count": 36,
     "metadata": {},
     "output_type": "execute_result"
    },
    {
     "data": {
      "image/png": "[encoded data removed]",
      "text/plain": [
       "<Figure size 640x480 with 1 Axes>"
      ]
     },
     "metadata": {},
     "output_type": "display_data"
    }
   ],
   "source": [
    "sns.histplot(data, x='Cholesterol', hue='Heart Attack Risk', bins=15) "
   ]
  },
  {
   "cell_type": "code",
   "execution_count": 37,
   "metadata": {},
   "outputs": [
    {
     "data": {
      "text/plain": [
       "<Axes: xlabel='Systolic BP', ylabel='Count'>"
      ]
     },
     "execution_count": 37,
     "metadata": {},
     "output_type": "execute_result"
    },
    {
     "data": {
      "image/png": "[encoded data removed]",
      "text/plain": [
       "<Figure size 640x480 with 1 Axes>"
      ]
     },
     "metadata": {},
     "output_type": "display_data"
    }
   ],
   "source": [
    "sns.histplot(temp, x='Systolic BP', hue='Heart Attack Risk', bins=15) "
   ]
  },
  {
   "cell_type": "code",
   "execution_count": 38,
   "metadata": {},
   "outputs": [
    {
     "data": {
      "text/plain": [
       "<Axes: xlabel='Sleep Hours Per Day', ylabel='count'>"
      ]
     },
     "execution_count": 38,
     "metadata": {},
     "output_type": "execute_result"
    },
    {
     "data": {
      "image/png": "[encoded data removed]",
      "text/plain": [
       "<Figure size 640x480 with 1 Axes>"
      ]
     },
     "metadata": {},
     "output_type": "display_data"
    }
   ],
   "source": [
    "sns.countplot(data, x='Sleep Hours Per Day', hue='Heart Attack Risk') "
   ]
  },
  {
   "cell_type": "code",
   "execution_count": 39,
   "metadata": {},
   "outputs": [
    {
     "data": {
      "text/plain": [
       "<Axes: xlabel='Exercise Hours Per Week', ylabel='Count'>"
      ]
     },
     "execution_count": 39,
     "metadata": {},
     "output_type": "execute_result"
    },
    {
     "data": {
      "image/png": "[encoded data removed]",
      "text/plain": [
       "<Figure size 640x480 with 1 Axes>"
      ]
     },
     "metadata": {},
     "output_type": "display_data"
    }
   ],
   "source": [
    "sns.histplot(data, x='Exercise Hours Per Week', hue='Heart Attack Risk') "
   ]
  },
  {
   "cell_type": "code",
   "execution_count": 40,
   "metadata": {},
   "outputs": [
    {
     "data": {
      "text/plain": [
       "<Axes: xlabel='Triglycerides', ylabel='Count'>"
      ]
     },
     "execution_count": 40,
     "metadata": {},
     "output_type": "execute_result"
    },
    {
     "data": {
      "image/png": "[encoded data removed]",
      "text/plain": [
       "<Figure size 640x480 with 1 Axes>"
      ]
     },
     "metadata": {},
     "output_type": "display_data"
    }
   ],
   "source": [
    "sns.histplot(data, x='Triglycerides', hue='Heart Attack Risk') "
   ]
  },
  {
   "cell_type": "code",
   "execution_count": 41,
   "metadata": {},
   "outputs": [
    {
     "data": {
      "text/plain": [
       "<Axes: xlabel='Previous Heart Problems', ylabel='count'>"
      ]
     },
     "execution_count": 41,
     "metadata": {},
     "output_type": "execute_result"
    },
    {
     "data": {
      "image/png": "[encoded data removed]",
      "text/plain": [
       "<Figure size 640x480 with 1 Axes>"
      ]
     },
     "metadata": {},
     "output_type": "display_data"
    }
   ],
   "source": [
    "sns.countplot(data, x='Previous Heart Problems', hue='Heart Attack Risk') "
   ]
  },
  {
   "cell_type": "code",
   "execution_count": 42,
   "metadata": {},
   "outputs": [
    {
     "data": {
      "text/plain": [
       "<Axes: xlabel='Age', ylabel='Count'>"
      ]
     },
     "execution_count": 42,
     "metadata": {},
     "output_type": "execute_result"
    },
    {
     "data": {
      "image/png": "[encoded data removed]",
      "text/plain": [
       "<Figure size 640x480 with 1 Axes>"
      ]
     },
     "metadata": {},
     "output_type": "display_data"
    }
   ],
   "source": [
    "sns.histplot(data, x='Age', hue='Heart Attack Risk') "
   ]
  },
  {
   "cell_type": "code",
   "execution_count": 43,
   "metadata": {},
   "outputs": [
    {
     "data": {
      "text/plain": [
       "<Axes: xlabel='Continent', ylabel='count'>"
      ]
     },
     "execution_count": 43,
     "metadata": {},
     "output_type": "execute_result"
    },
    {
     "data": {
      "image/png": "[encoded data removed]",
      "text/plain": [
       "<Figure size 640x480 with 1 Axes>"
      ]
     },
     "metadata": {},
     "output_type": "display_data"
    }
   ],
   "source": [
    "sns.countplot(data, x='Continent', hue='Heart Attack Risk') "
   ]
  },
  {
   "cell_type": "code",
   "execution_count": 44,
   "metadata": {},
   "outputs": [
    {
     "data": {
      "text/plain": [
       "<Axes: xlabel='GDP (2018)', ylabel='Count'>"
      ]
     },
     "execution_count": 44,
     "metadata": {},
     "output_type": "execute_result"
    },
    {
     "data": {
      "image/png": "[encoded data removed]",
      "text/plain": [
       "<Figure size 640x480 with 1 Axes>"
      ]
     },
     "metadata": {},
     "output_type": "display_data"
    }
   ],
   "source": [
    "sns.histplot(data, x='GDP (2018)', hue='Heart Attack Risk', bins=15) "
   ]
  },
  {
   "cell_type": "code",
   "execution_count": 45,
   "metadata": {},
   "outputs": [
    {
     "data": {
      "text/plain": [
       "<Axes: xlabel='Health Index', ylabel='Count'>"
      ]
     },
     "execution_count": 45,
     "metadata": {},
     "output_type": "execute_result"
    },
    {
     "data": {
      "image/png": "[encoded data removed]",
      "text/plain": [
       "<Figure size 640x480 with 1 Axes>"
      ]
     },
     "metadata": {},
     "output_type": "display_data"
    }
   ],
   "source": [
    "sns.histplot(data, x='Health Index', hue='Heart Attack Risk', bins=15) "
   ]
  },
  {
   "cell_type": "markdown",
   "metadata": {},
   "source": [
    "The dataset target classes are imbalanced.\n",
    "\n",
    "Ever so slightly, a person falls into any of the following categories has a higher heart attack risk\n",
    "- Have diabetes\n",
    "- Have high cholesterol\n",
    "- Have 8 hours of sleep per day\n",
    "- Have 18-19 hours of exercise hours per week\n",
    "- Have age of 71-75 years old \n",
    "- Have origin from North America or Australia.\n",
    "- Have origin from high GDP country\n",
    "\n",
    "Below is pairplot which shows no noticeable correlation of scatterplot between any two features and the target."
   ]
  },
  {
   "cell_type": "code",
   "execution_count": 46,
   "metadata": {},
   "outputs": [],
   "source": [
    "# plt.figure(figsize=(20,20))\n",
    "# sns.pairplot(temp, hue='Heart Attack Risk')"
   ]
  },
  {
   "cell_type": "markdown",
   "metadata": {},
   "source": [
    "# Train Test Split"
   ]
  },
  {
   "cell_type": "code",
   "execution_count": 47,
   "metadata": {},
   "outputs": [],
   "source": [
    "# Encode some very well known feature to binary or ordinal data\n",
    "data['Sex'] = data['Sex'].map({'Male': 0, 'Female':1})\n",
    "data['Diet'] = data['Diet'].map({'Unhealthy': 0, 'Average':1, 'Healthy':2})\n",
    "data['Hemisphere'] = data['Hemisphere'].map({'Northern Hemisphere': 0, 'Southern Hemisphere': 1})\n",
    "\n",
    "# Split blood pressure into two values\n",
    "data[['Systolic BP', 'Diastolic BP']] = data['Blood Pressure'].str.split('/', expand=True).astype(int)\n",
    "data.drop('Blood Pressure', axis=1, inplace=True)"
   ]
  },
  {
   "cell_type": "code",
   "execution_count": 48,
   "metadata": {},
   "outputs": [],
   "source": [
    "X = data.drop('Heart Attack Risk', axis = 1)\n",
    "y = data['Heart Attack Risk']"
   ]
  },
  {
   "cell_type": "code",
   "execution_count": 49,
   "metadata": {},
   "outputs": [],
   "source": [
    "from sklearn.model_selection import train_test_split\n",
    "\n",
    "X_train, X_test, y_train, y_test = train_test_split(X, y, test_size=0.2, random_state=42)"
   ]
  },
  {
   "cell_type": "markdown",
   "metadata": {},
   "source": [
    "# Encode and Scale Features"
   ]
  },
  {
   "cell_type": "code",
   "execution_count": 50,
   "metadata": {},
   "outputs": [],
   "source": [
    "# Use ColumnTransformer to encode the training set\n",
    "\n",
    "from sklearn.preprocessing import MinMaxScaler, OneHotEncoder\n",
    "from sklearn.pipeline import Pipeline\n",
    "from sklearn.compose import ColumnTransformer\n",
    "\n",
    "mms = MinMaxScaler()\n",
    "ohe = OneHotEncoder(sparse_output=False, handle_unknown='ignore')\n",
    "\n",
    "col_num = X_train.select_dtypes(exclude='object').columns.tolist()\n",
    "col_str = X_train.select_dtypes(include='object').columns.tolist()\n",
    "\n",
    "transformer = ColumnTransformer([('MinMaxScaler', mms, col_num),\n",
    "                                 ('OneHotEncoding', ohe, col_str)])"
   ]
  },
  {
   "cell_type": "code",
   "execution_count": 51,
   "metadata": {},
   "outputs": [],
   "source": [
    "X_train = transformer.fit_transform(X_train)"
   ]
  },
  {
   "cell_type": "code",
   "execution_count": 73,
   "metadata": {},
   "outputs": [],
   "source": [
    "X_test = transformer.transform(X_test)"
   ]
  },
  {
   "cell_type": "markdown",
   "metadata": {},
   "source": [
    "# Model Training"
   ]
  },
  {
   "cell_type": "code",
   "execution_count": 52,
   "metadata": {},
   "outputs": [
    {
     "data": {
      "text/plain": [
       "<Axes: xlabel='Heart Attack Risk', ylabel='count'>"
      ]
     },
     "execution_count": 52,
     "metadata": {},
     "output_type": "execute_result"
    },
    {
     "data": {
      "image/png": "[encoded data removed]",
      "text/plain": [
       "<Figure size 640x480 with 1 Axes>"
      ]
     },
     "metadata": {},
     "output_type": "display_data"
    }
   ],
   "source": [
    "# Quick reminder that we have unbalanced target classes\n",
    "sns.countplot(data, x='Heart Attack Risk', hue='Heart Attack Risk', legend=False)"
   ]
  },
  {
   "cell_type": "markdown",
   "metadata": {},
   "source": [
    "## Data Undersampling"
   ]
  },
  {
   "cell_type": "code",
   "execution_count": 53,
   "metadata": {},
   "outputs": [],
   "source": [
    "# Perform undersampling with imblearn\n",
    "\n",
    "from imblearn.under_sampling import RandomUnderSampler\n",
    "\n",
    "rus = RandomUnderSampler(random_state=42)\n",
    "X_train, y_train = rus.fit_resample(X_train, y_train)"
   ]
  },
  {
   "cell_type": "markdown",
   "metadata": {},
   "source": [
    "## GridSearch"
   ]
  },
  {
   "cell_type": "code",
   "execution_count": 54,
   "metadata": {},
   "outputs": [],
   "source": [
    "from xgboost import XGBClassifier\n",
    "from sklearn.model_selection import GridSearchCV, StratifiedKFold\n",
    "from sklearn.ensemble import RandomForestClassifier\n",
    "from sklearn.linear_model import LogisticRegression\n",
    "from sklearn.metrics import make_scorer, accuracy_score, f1_score\n",
    "from sklearn.model_selection import cross_val_score, cross_val_predict\n",
    "from lightgbm import LGBMClassifier\n",
    "from catboost import CatBoostClassifier"
   ]
  },
  {
   "cell_type": "code",
   "execution_count": 55,
   "metadata": {},
   "outputs": [],
   "source": [
    "classifiers = {\n",
    "    'RandomForest': (RandomForestClassifier(), {\n",
    "        'n_estimators': [100, 300, 500],\n",
    "        'max_depth': [None, 5, 10],\n",
    "        'min_samples_split': [2, 5, 10],\n",
    "        'max_features': ['sqrt']\n",
    "    }),\n",
    "    'XGBoost': (XGBClassifier(), {\n",
    "        'n_estimators': [100, 300, 500],\n",
    "        'max_depth': [3, 5, 7],\n",
    "        'learning_rate': [0.01, 0.1],\n",
    "        'subsample': [0.7, 0.9]\n",
    "    }),\n",
    "    'LogisticRegression': (LogisticRegression(), {\n",
    "        'C': [0.1, 1.0, 10.0],\n",
    "        'penalty': ['elasticnet'],\n",
    "        'solver': ['saga'],\n",
    "        'l1_ratio': [0.5, 0.8, 1]\n",
    "    }),\n",
    "    'LightGBM': (LGBMClassifier(verbose=-1), {\n",
    "        'n_estimators': [100, 200, 300],\n",
    "        'learning_rate': [0.05, 0.1],\n",
    "        'max_depth': [3, 5, 7]\n",
    "    }),\n",
    "    'CatBoost': (CatBoostClassifier(verbose=0), {\n",
    "        'iterations': [100, 200, 300],\n",
    "        'learning_rate': [0.05, 0.1],\n",
    "        'depth': [4, 6, 8]\n",
    "    })\n",
    "}"
   ]
  },
  {
   "cell_type": "code",
   "execution_count": 74,
   "metadata": {},
   "outputs": [
    {
     "name": "stdout",
     "output_type": "stream",
     "text": [
      "Best Classifier and Parameters\n",
      "==================================================\n"
     ]
    },
    {
     "name": "stdout",
     "output_type": "stream",
     "text": [
      "RandomForest: {'max_depth': 10, 'max_features': 'sqrt', 'min_samples_split': 2, 'n_estimators': 100}\n",
      "Cross val f1 score of RandomForest: 0.4780\n",
      "Test set f1 score of RandomForest: 0.4059\n",
      "———————————————————————————————————\n",
      "XGBoost: {'learning_rate': 0.1, 'max_depth': 3, 'n_estimators': 300, 'subsample': 0.9}\n",
      "Cross val f1 score of XGBoost: 0.4643\n",
      "Test set f1 score of XGBoost: 0.4324\n",
      "———————————————————————————————————\n",
      "LogisticRegression: {'C': 10.0, 'l1_ratio': 0.8, 'penalty': 'elasticnet', 'solver': 'saga'}\n",
      "Cross val f1 score of LogisticRegression: 0.4727\n",
      "Test set f1 score of LogisticRegression: 0.4382\n",
      "———————————————————————————————————\n",
      "LightGBM: {'learning_rate': 0.1, 'max_depth': 5, 'n_estimators': 100}\n",
      "Cross val f1 score of LightGBM: 0.4908\n",
      "Test set f1 score of LightGBM: 0.4242\n",
      "———————————————————————————————————\n",
      "CatBoost: {'depth': 6, 'iterations': 200, 'learning_rate': 0.1}\n",
      "Cross val f1 score of CatBoost: 0.4954\n",
      "Test set f1 score of CatBoost: 0.4310\n",
      "———————————————————————————————————\n"
     ]
    }
   ],
   "source": [
    "import pickle\n",
    "\n",
    "best_classifiers_grid = {}\n",
    "scorer = make_scorer(f1_score) \n",
    "# We choose f1_score because we prioritize predicting positive over negative\n",
    "# We want to raise awareness of possibility for heart attack risk\n",
    "\n",
    "print('Best Classifier and Parameters')\n",
    "print('='*50)\n",
    "\n",
    "for name, (classifier, param_grid) in classifiers.items():\n",
    "    grid_search = GridSearchCV(classifier, param_grid, cv=5, scoring=scorer, n_jobs=-1)\n",
    "    grid_search.fit(X_train, y_train)\n",
    "    \n",
    "    # Print the best parameters and the corresponding score\n",
    "    print(f'{name}: {grid_search.best_params_}')\n",
    "    print(f'Cross val f1 score of {name}: {grid_search.cv_results_[\"mean_test_score\"][0]:.4f}')\n",
    "    print(f'Test set f1 score of {name}: {f1_score(y_test, grid_search.predict(X_test)):.4f}')\n",
    "    print('—'*35)\n",
    "    \n",
    "    # Save the best classifier in the dictionary\n",
    "    best_classifiers_grid[name] = grid_search.best_estimator_\n",
    "    pickle.dump(grid_search, open(f'./model/{name}.pkl', 'wb'))"
   ]
  },
  {
   "cell_type": "code",
   "execution_count": null,
   "metadata": {},
   "outputs": [],
   "source": [
    "# Best Classifier and Parameters\n",
    "# ==================================================\n",
    "# RandomForest: {'max_depth': 10, 'max_features': 'sqrt', 'min_samples_split': 2, 'n_estimators': 100}\n",
    "# Cross val f1 score of RandomForest: 0.4780\n",
    "# Test set f1 score of RandomForest: 0.4059\n",
    "# ———————————————————————————————————\n",
    "# XGBoost: {'learning_rate': 0.1, 'max_depth': 3, 'n_estimators': 300, 'subsample': 0.9}\n",
    "# Cross val f1 score of XGBoost: 0.4643\n",
    "# Test set f1 score of XGBoost: 0.4324\n",
    "# ———————————————————————————————————\n",
    "# LogisticRegression: {'C': 10.0, 'l1_ratio': 0.8, 'penalty': 'elasticnet', 'solver': 'saga'}\n",
    "# Cross val f1 score of LogisticRegression: 0.4727\n",
    "# Test set f1 score of LogisticRegression: 0.4382\n",
    "# ———————————————————————————————————\n",
    "# LightGBM: {'learning_rate': 0.1, 'max_depth': 5, 'n_estimators': 100}\n",
    "# Cross val f1 score of LightGBM: 0.4908\n",
    "# Test set f1 score of LightGBM: 0.4242\n",
    "# ———————————————————————————————————\n",
    "# CatBoost: {'depth': 6, 'iterations': 200, 'learning_rate': 0.1}\n",
    "# Cross val f1 score of CatBoost: 0.4954\n",
    "# Test set f1 score of CatBoost: 0.4310\n",
    "# ———————————————————————————————————"
   ]
  },
  {
   "cell_type": "markdown",
   "metadata": {},
   "source": [
    "## Ensemble Models"
   ]
  },
  {
   "cell_type": "code",
   "execution_count": 75,
   "metadata": {},
   "outputs": [],
   "source": [
    "from sklearn.ensemble import StackingClassifier\n",
    "from sklearn.ensemble import VotingClassifier\n",
    "from sklearn.metrics import accuracy_score\n",
    "from sklearn.model_selection import cross_val_predict\n",
    "\n",
    "# Define base models\n",
    "base_models = []\n",
    "for k, v in best_classifiers_grid.items():\n",
    "    base_models.append((k, v))"
   ]
  },
  {
   "cell_type": "code",
   "execution_count": null,
   "metadata": {},
   "outputs": [],
   "source": [
    "meta_model = LogisticRegression()\n",
    "stacking_classifier = StackingClassifier(estimators=base_models, final_estimator=meta_model)\n",
    "stacking_classifier.fit(X_train, y_train)\n",
    "yhat_train_stacking = stacking_classifier.predict(X_train)\n",
    "print(f'Training f1 score of Stacking: {f1_score(y_train, yhat_train_stacking)}')\n",
    "yhat_test_stacking = stacking_classifier.predict(X_test)\n",
    "print(f'Training f1 score of Stacking: {f1_score(y_test, yhat_test_stacking)}')"
   ]
  },
  {
   "cell_type": "code",
   "execution_count": null,
   "metadata": {},
   "outputs": [],
   "source": [
    "voting_classifier = VotingClassifier(estimators=base_models, voting='soft')\n",
    "voting_classifier.fit(X_train, y_train)\n",
    "yhat_train_voting = voting_classifier.predict(X_train)\n",
    "print(f'Training f1 score of Voting: {f1_score(y_train, yhat_train_voting)}')\n",
    "yhat_test_voting = voting_classifier.predict(X_test)\n",
    "print(f'Training f1 score of Voting: {f1_score(y_test, yhat_test_voting)}')"
   ]
  },
  {
   "cell_type": "code",
   "execution_count": null,
   "metadata": {},
   "outputs": [],
   "source": [
    "pickle.dump(stacking_classifier, open('./model/stacking_classifier.pkl', 'wb'))\n",
    "pickle.dump(voting_classifier, open('./model/voting_classifier.pkl', 'wb'))"
   ]
  },
  {
   "cell_type": "markdown",
   "metadata": {},
   "source": [
    "# Modeling with Selective Features"
   ]
  },
  {
   "cell_type": "code",
   "execution_count": 99,
   "metadata": {},
   "outputs": [],
   "source": [
    "# Import the premerged data and encode some well known features\n",
    "data2 = pd.read_csv('./dataset/merged 001.csv')\n",
    "data2['Sex'].replace({'Male': 0, 'Female': 1}, inplace=True)\n",
    "data2['Hemisphere'].replace({'Northern Hemisphere': 0, 'Southern Hemisphere': 1}, inplace=True)\n",
    "data2['Diet'].replace({'Unhealthy': 0, 'Average': 1, 'Healthy':2}, inplace=True)\n",
    "data2[['Systolic BP', 'Diastolic BP']] = data2['Blood Pressure'].str.split('/', expand=True).astype(int)\n",
    "data2.drop('Blood Pressure', axis=1, inplace=True)"
   ]
  },
  {
   "cell_type": "code",
   "execution_count": 101,
   "metadata": {},
   "outputs": [],
   "source": [
    "# Select only the top correlated features\n",
    "data2 = data2[['Heart Attack Risk','Diabetes', 'Cholesterol', 'Systolic BP', 'Continent', 'Sleep Hours Per Day',\n",
    "              'Exercise Hours Per Week', 'Triglycerides', 'Previous Heart Problems', 'Obesity', 'Age', \n",
    "              'Death Rate', 'Alcohol Consumption']]"
   ]
  },
  {
   "cell_type": "markdown",
   "metadata": {},
   "source": [
    "## Train Test Split"
   ]
  },
  {
   "cell_type": "code",
   "execution_count": 102,
   "metadata": {},
   "outputs": [],
   "source": [
    "X = data2.drop('Heart Attack Risk', axis = 1)\n",
    "y = data2['Heart Attack Risk']"
   ]
  },
  {
   "cell_type": "code",
   "execution_count": 103,
   "metadata": {},
   "outputs": [],
   "source": [
    "from sklearn.model_selection import train_test_split\n",
    "\n",
    "X_train, X_test, y_train, y_test = train_test_split(X, y, test_size=0.2, random_state=42)"
   ]
  },
  {
   "cell_type": "markdown",
   "metadata": {},
   "source": [
    "## Encode and Scale Features"
   ]
  },
  {
   "cell_type": "code",
   "execution_count": 104,
   "metadata": {},
   "outputs": [],
   "source": [
    "# Use ColumnTransformer to encode the training set\n",
    "\n",
    "from sklearn.preprocessing import MinMaxScaler, OneHotEncoder\n",
    "from sklearn.pipeline import Pipeline\n",
    "from sklearn.compose import ColumnTransformer\n",
    "\n",
    "mms = MinMaxScaler()\n",
    "ohe = OneHotEncoder(sparse_output=False, handle_unknown='ignore')\n",
    "\n",
    "col_num = X_train.select_dtypes(exclude='object').columns.tolist()\n",
    "col_str = X_train.select_dtypes(include='object').columns.tolist()\n",
    "\n",
    "transformer = ColumnTransformer([('MinMaxScaler', mms, col_num),\n",
    "                                 ('OneHotEncoding', ohe, col_str)])\n",
    "\n",
    "X_train = transformer.fit_transform(X_train)\n",
    "X_test = transformer.transform(X_test)"
   ]
  },
  {
   "cell_type": "markdown",
   "metadata": {},
   "source": [
    "## Model Training"
   ]
  },
  {
   "cell_type": "code",
   "execution_count": 105,
   "metadata": {},
   "outputs": [],
   "source": [
    "# Perform undersampling with imblearn\n",
    "\n",
    "from imblearn.under_sampling import RandomUnderSampler\n",
    "\n",
    "rus = RandomUnderSampler(random_state=42)\n",
    "X_train, y_train = rus.fit_resample(X_train, y_train)"
   ]
  },
  {
   "cell_type": "code",
   "execution_count": 106,
   "metadata": {},
   "outputs": [],
   "source": [
    "from xgboost import XGBClassifier\n",
    "from sklearn.model_selection import GridSearchCV, StratifiedKFold\n",
    "from sklearn.ensemble import RandomForestClassifier\n",
    "from sklearn.linear_model import LogisticRegression\n",
    "from sklearn.metrics import make_scorer, accuracy_score, f1_score\n",
    "from sklearn.model_selection import cross_val_score, cross_val_predict\n",
    "from lightgbm import LGBMClassifier\n",
    "from catboost import CatBoostClassifier"
   ]
  },
  {
   "cell_type": "code",
   "execution_count": 107,
   "metadata": {},
   "outputs": [],
   "source": [
    "classifiers = {\n",
    "    'RandomForest': (RandomForestClassifier(), {\n",
    "        'n_estimators': [100, 300, 500],\n",
    "        'max_depth': [None, 5, 10],\n",
    "        'min_samples_split': [2, 5, 10],\n",
    "        'max_features': ['sqrt']\n",
    "    }),\n",
    "    'XGBoost': (XGBClassifier(), {\n",
    "        'n_estimators': [100, 300, 500],\n",
    "        'max_depth': [3, 5, 7],\n",
    "        'learning_rate': [0.01, 0.1],\n",
    "        'subsample': [0.7, 0.9]\n",
    "    }),\n",
    "    'LogisticRegression': (LogisticRegression(), {\n",
    "        'C': [0.1, 1.0, 10.0],\n",
    "        'penalty': ['elasticnet'],\n",
    "        'solver': ['saga'],\n",
    "        'l1_ratio': [0.5, 0.8, 1]\n",
    "    }),\n",
    "    'LightGBM': (LGBMClassifier(verbose=-1), {\n",
    "        'n_estimators': [100, 200, 300],\n",
    "        'learning_rate': [0.05, 0.1],\n",
    "        'max_depth': [3, 5, 7]\n",
    "    }),\n",
    "    'CatBoost': (CatBoostClassifier(verbose=0), {\n",
    "        'iterations': [100, 200, 300],\n",
    "        'learning_rate': [0.05, 0.1],\n",
    "        'depth': [4, 6, 8]\n",
    "    })\n",
    "}"
   ]
  },
  {
   "cell_type": "code",
   "execution_count": 116,
   "metadata": {},
   "outputs": [
    {
     "name": "stdout",
     "output_type": "stream",
     "text": [
      "Best Classifier and Parameters\n",
      "==================================================\n"
     ]
    },
    {
     "name": "stdout",
     "output_type": "stream",
     "text": [
      "RandomForest: {'max_depth': 5, 'max_features': 'sqrt', 'min_samples_split': 10, 'n_estimators': 100}\n",
      "Cross val f1 score of RandomForest: 0.4798\n",
      "Test set f1 score of RandomForest: 0.4623\n",
      "———————————————————————————————————\n",
      "XGBoost: {'learning_rate': 0.1, 'max_depth': 3, 'n_estimators': 300, 'subsample': 0.7}\n",
      "Cross val f1 score of XGBoost: 0.4679\n",
      "Test set f1 score of XGBoost: 0.4320\n",
      "———————————————————————————————————\n",
      "LogisticRegression: {'C': 10.0, 'l1_ratio': 0.5, 'penalty': 'elasticnet', 'solver': 'saga'}\n",
      "Cross val f1 score of LogisticRegression: 0.4724\n",
      "Test set f1 score of LogisticRegression: 0.4228\n",
      "———————————————————————————————————\n",
      "LightGBM: {'learning_rate': 0.1, 'max_depth': 3, 'n_estimators': 200}\n",
      "Cross val f1 score of LightGBM: 0.4881\n",
      "Test set f1 score of LightGBM: 0.4316\n",
      "———————————————————————————————————\n",
      "CatBoost: {'depth': 6, 'iterations': 200, 'learning_rate': 0.1}\n",
      "Cross val f1 score of CatBoost: 0.4731\n",
      "Test set f1 score of CatBoost: 0.4315\n",
      "———————————————————————————————————\n"
     ]
    }
   ],
   "source": [
    "import pickle\n",
    "\n",
    "best_classifiers_grid = {}\n",
    "scorer = make_scorer(f1_score) \n",
    "# We choose f1_score because we prioritize predicting positive over negative\n",
    "# We want to raise awareness of possibility for heart attack risk\n",
    "\n",
    "print('Best Classifier and Parameters')\n",
    "print('='*50)\n",
    "\n",
    "for name, (classifier, param_grid) in classifiers.items():\n",
    "    grid_search = GridSearchCV(classifier, param_grid, cv=5, scoring=scorer, n_jobs=-1)\n",
    "    grid_search.fit(X_train, y_train)\n",
    "    \n",
    "    # Print the best parameters and the corresponding score\n",
    "    print(f'{name}: {grid_search.best_params_}')\n",
    "    print(f'Cross val f1 score of {name}: {grid_search.cv_results_[\"mean_test_score\"][0]:.4f}')\n",
    "    print(f'Test set f1 score of {name}: {f1_score(y_test, grid_search.predict(X_test)):.4f}')\n",
    "    print('—'*35)\n",
    "    \n",
    "    # Save the best classifier in the dictionary\n",
    "    best_classifiers_grid[name] = grid_search.best_estimator_\n",
    "    pickle.dump(grid_search, open(f'./model2/{name}.pkl', 'wb'))"
   ]
  },
  {
   "cell_type": "markdown",
   "metadata": {},
   "source": [
    "### Ensemble Models"
   ]
  },
  {
   "cell_type": "code",
   "execution_count": 129,
   "metadata": {},
   "outputs": [],
   "source": [
    "from sklearn.ensemble import StackingClassifier\n",
    "from sklearn.ensemble import VotingClassifier\n",
    "from sklearn.metrics import accuracy_score\n",
    "from sklearn.model_selection import cross_val_predict\n",
    "\n",
    "# Define base models\n",
    "base_models = []\n",
    "for k, v in best_classifiers_grid.items():\n",
    "    base_models.append((k, v))"
   ]
  },
  {
   "cell_type": "code",
   "execution_count": 130,
   "metadata": {},
   "outputs": [
    {
     "name": "stdout",
     "output_type": "stream",
     "text": [
      "Training f1 score of Stacking: 0.34657398212512414\n",
      "Testing f1 score of Stacking: 0.4064625850340136\n"
     ]
    }
   ],
   "source": [
    "meta_model = LogisticRegression()\n",
    "stacking_classifier = StackingClassifier(estimators=base_models, final_estimator=meta_model, cv=5)\n",
    "stacking_classifier.fit(X_train, y_train)\n",
    "yhat_train_stacking = stacking_classifier.predict(X_train)\n",
    "print(f'Training f1 score of Stacking: {f1_score(y_train, yhat_train_stacking)}')\n",
    "yhat_test_stacking = stacking_classifier.predict(X_test)\n",
    "print(f'Testing f1 score of Stacking: {f1_score(y_test, yhat_test_stacking)}')"
   ]
  },
  {
   "cell_type": "code",
   "execution_count": 131,
   "metadata": {},
   "outputs": [],
   "source": [
    "# Save the model\n",
    "pickle.dump(stacking_classifier, open('./model2/stacking_classifier.pkl', 'wb'))"
   ]
  },
  {
   "cell_type": "code",
   "execution_count": 139,
   "metadata": {},
   "outputs": [
    {
     "name": "stdout",
     "output_type": "stream",
     "text": [
      "Training f1 score of Voting: 0.7723114956736712\n",
      "Testing f1 score of Voting: 0.43775427176566317\n"
     ]
    }
   ],
   "source": [
    "voting_classifier = VotingClassifier(estimators=base_models, voting='hard', weights=None)\n",
    "voting_classifier.fit(X_train, y_train)\n",
    "yhat_train_voting = voting_classifier.predict(X_train)\n",
    "print(f'Training f1 score of Voting: {f1_score(y_train, yhat_train_voting)}')\n",
    "yhat_test_voting = voting_classifier.predict(X_test)\n",
    "print(f'Testing f1 score of Voting: {f1_score(y_test, yhat_test_voting)}')"
   ]
  },
  {
   "cell_type": "code",
   "execution_count": 140,
   "metadata": {},
   "outputs": [],
   "source": [
    "# Save the model\n",
    "pickle.dump(voting_classifier, open('./model2/voting_classifier.pkl', 'wb'))"
   ]
  },
  {
   "cell_type": "markdown",
   "metadata": {},
   "source": [
    "## --"
   ]
  },
  {
   "cell_type": "code",
   "execution_count": 144,
   "metadata": {},
   "outputs": [
    {
     "data": {
      "text/html": [
       "<style>#sk-container-id-3 {color: black;}#sk-container-id-3 pre{padding: 0;}#sk-container-id-3 div.sk-toggleable {background-color: white;}#sk-container-id-3 label.sk-toggleable__label {cursor: pointer;display: block;width: 100%;margin-bottom: 0;padding: 0.3em;box-sizing: border-box;text-align: center;}#sk-container-id-3 label.sk-toggleable__label-arrow:before {content: \"▸\";float: left;margin-right: 0.25em;color: #696969;}#sk-container-id-3 label.sk-toggleable__label-arrow:hover:before {color: black;}#sk-container-id-3 div.sk-estimator:hover label.sk-toggleable__label-arrow:before {color: black;}#sk-container-id-3 div.sk-toggleable__content {max-height: 0;max-width: 0;overflow: hidden;text-align: left;background-color: #f0f8ff;}#sk-container-id-3 div.sk-toggleable__content pre {margin: 0.2em;color: black;border-radius: 0.25em;background-color: #f0f8ff;}#sk-container-id-3 input.sk-toggleable__control:checked~div.sk-toggleable__content {max-height: 200px;max-width: 100%;overflow: auto;}#sk-container-id-3 input.sk-toggleable__control:checked~label.sk-toggleable__label-arrow:before {content: \"▾\";}#sk-container-id-3 div.sk-estimator input.sk-toggleable__control:checked~label.sk-toggleable__label {background-color: #d4ebff;}#sk-container-id-3 div.sk-label input.sk-toggleable__control:checked~label.sk-toggleable__label {background-color: #d4ebff;}#sk-container-id-3 input.sk-hidden--visually {border: 0;clip: rect(1px 1px 1px 1px);clip: rect(1px, 1px, 1px, 1px);height: 1px;margin: -1px;overflow: hidden;padding: 0;position: absolute;width: 1px;}#sk-container-id-3 div.sk-estimator {font-family: monospace;background-color: #f0f8ff;border: 1px dotted black;border-radius: 0.25em;box-sizing: border-box;margin-bottom: 0.5em;}#sk-container-id-3 div.sk-estimator:hover {background-color: #d4ebff;}#sk-container-id-3 div.sk-parallel-item::after {content: \"\";width: 100%;border-bottom: 1px solid gray;flex-grow: 1;}#sk-container-id-3 div.sk-label:hover label.sk-toggleable__label {background-color: #d4ebff;}#sk-container-id-3 div.sk-serial::before {content: \"\";position: absolute;border-left: 1px solid gray;box-sizing: border-box;top: 0;bottom: 0;left: 50%;z-index: 0;}#sk-container-id-3 div.sk-serial {display: flex;flex-direction: column;align-items: center;background-color: white;padding-right: 0.2em;padding-left: 0.2em;position: relative;}#sk-container-id-3 div.sk-item {position: relative;z-index: 1;}#sk-container-id-3 div.sk-parallel {display: flex;align-items: stretch;justify-content: center;background-color: white;position: relative;}#sk-container-id-3 div.sk-item::before, #sk-container-id-3 div.sk-parallel-item::before {content: \"\";position: absolute;border-left: 1px solid gray;box-sizing: border-box;top: 0;bottom: 0;left: 50%;z-index: -1;}#sk-container-id-3 div.sk-parallel-item {display: flex;flex-direction: column;z-index: 1;position: relative;background-color: white;}#sk-container-id-3 div.sk-parallel-item:first-child::after {align-self: flex-end;width: 50%;}#sk-container-id-3 div.sk-parallel-item:last-child::after {align-self: flex-start;width: 50%;}#sk-container-id-3 div.sk-parallel-item:only-child::after {width: 0;}#sk-container-id-3 div.sk-dashed-wrapped {border: 1px dashed gray;margin: 0 0.4em 0.5em 0.4em;box-sizing: border-box;padding-bottom: 0.4em;background-color: white;}#sk-container-id-3 div.sk-label label {font-family: monospace;font-weight: bold;display: inline-block;line-height: 1.2em;}#sk-container-id-3 div.sk-label-container {text-align: center;}#sk-container-id-3 div.sk-container {/* jupyter's `normalize.less` sets `[hidden] { display: none; }` but bootstrap.min.css set `[hidden] { display: none !important; }` so we also need the `!important` here to be able to override the default hidden behavior on the sphinx rendered scikit-learn.org. See: https://github.com/scikit-learn/scikit-learn/issues/21755 */display: inline-block !important;position: relative;}#sk-container-id-3 div.sk-text-repr-fallback {display: none;}</style><div id=\"sk-container-id-3\" class=\"sk-top-container\"><div class=\"sk-text-repr-fallback\"><pre>RandomForestClassifier(max_depth=5, min_samples_split=10)</pre><b>In a Jupyter environment, please rerun this cell to show the HTML representation or trust the notebook. <br />On GitHub, the HTML representation is unable to render, please try loading this page with nbviewer.org.</b></div><div class=\"sk-container\" hidden><div class=\"sk-item\"><div class=\"sk-estimator sk-toggleable\"><input class=\"sk-toggleable__control sk-hidden--visually\" id=\"sk-estimator-id-5\" type=\"checkbox\" checked><label for=\"sk-estimator-id-5\" class=\"sk-toggleable__label sk-toggleable__label-arrow\">RandomForestClassifier</label><div class=\"sk-toggleable__content\"><pre>RandomForestClassifier(max_depth=5, min_samples_split=10)</pre></div></div></div></div></div>"
      ],
      "text/plain": [
       "RandomForestClassifier(max_depth=5, min_samples_split=10)"
      ]
     },
     "execution_count": 144,
     "metadata": {},
     "output_type": "execute_result"
    }
   ],
   "source": [
    "best_model = best_classifiers_grid['RandomForest']\n",
    "best_model"
   ]
  },
  {
   "cell_type": "code",
   "execution_count": 145,
   "metadata": {},
   "outputs": [
    {
     "data": {
      "text/plain": [
       "Text(50.722222222222214, 0.5, 'True')"
      ]
     },
     "execution_count": 145,
     "metadata": {},
     "output_type": "execute_result"
    },
    {
     "data": {
      "image/png": "[encoded data removed]",
      "text/plain": [
       "<Figure size 640x480 with 2 Axes>"
      ]
     },
     "metadata": {},
     "output_type": "display_data"
    }
   ],
   "source": [
    "from sklearn.metrics import confusion_matrix\n",
    "\n",
    "sns.heatmap(confusion_matrix(y_test, best_model.predict(X_test)), annot=True, fmt='.0f')\n",
    "plt.xlabel('Predicted')\n",
    "plt.ylabel('True')"
   ]
  }
 ],
 "metadata": {
  "kernelspec": {
   "display_name": "Python 3",
   "language": "python",
   "name": "python3"
  },
  "language_info": {
   "codemirror_mode": {
    "name": "ipython",
    "version": 3
   },
   "file_extension": ".py",
   "mimetype": "text/x-python",
   "name": "python",
   "nbconvert_exporter": "python",
   "pygments_lexer": "ipython3",
   "version": "3.11.5"
  }
 },
 "nbformat": 4,
 "nbformat_minor": 2
}
