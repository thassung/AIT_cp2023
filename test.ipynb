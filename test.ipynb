{
 "cells": [
  {
   "cell_type": "code",
   "execution_count": 1,
   "metadata": {},
   "outputs": [],
   "source": [
    "import pickle\n",
    "import pandas as pd\n",
    "import numpy as np"
   ]
  },
  {
   "cell_type": "code",
   "execution_count": 20,
   "metadata": {},
   "outputs": [
    {
     "data": {
      "text/plain": [
       "Unnamed: 0                                           0\n",
       "Patient ID                                     RDG0550\n",
       "Age                                                 33\n",
       "Sex                                               Male\n",
       "Cholesterol                                        200\n",
       "Blood Pressure                                  129/90\n",
       "Heart Rate                                          48\n",
       "Diabetes                                             0\n",
       "Family History                                       1\n",
       "Smoking                                              1\n",
       "Obesity                                              1\n",
       "Alcohol Consumption                                  1\n",
       "Exercise Hours Per Week                        7.80769\n",
       "Diet                                         Unhealthy\n",
       "Previous Heart Problems                              0\n",
       "Medication Use                                       1\n",
       "Stress Level                                         2\n",
       "Sedentary Hours Per Day                       0.138443\n",
       "Income                                          184066\n",
       "BMI                                          30.449815\n",
       "Triglycerides                                       63\n",
       "Physical Activity Days Per Week                      6\n",
       "Sleep Hours Per Day                                  7\n",
       "Country                                      Argentina\n",
       "Continent                                South America\n",
       "Hemisphere                         Southern Hemisphere\n",
       "Heart Attack Risk                                    1\n",
       "Health Index                                     74.45\n",
       "GDP (2018)                                 20610.56855\n",
       "Death Rate                                      190.14\n",
       "Name: 0, dtype: object"
      ]
     },
     "execution_count": 20,
     "metadata": {},
     "output_type": "execute_result"
    }
   ],
   "source": [
    "pd.read_csv('./dataset/merged 001.csv').loc[0]"
   ]
  },
  {
   "cell_type": "code",
   "execution_count": null,
   "metadata": {},
   "outputs": [],
   "source": []
  }
 ],
 "metadata": {
  "kernelspec": {
   "display_name": "Python 3",
   "language": "python",
   "name": "python3"
  },
  "language_info": {
   "codemirror_mode": {
    "name": "ipython",
    "version": 3
   },
   "file_extension": ".py",
   "mimetype": "text/x-python",
   "name": "python",
   "nbconvert_exporter": "python",
   "pygments_lexer": "ipython3",
   "version": "3.11.5"
  }
 },
 "nbformat": 4,
 "nbformat_minor": 2
}
